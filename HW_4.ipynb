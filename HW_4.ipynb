{
 "cells": [
  {
   "attachments": {},
   "cell_type": "markdown",
   "metadata": {},
   "source": [
    "# Homework 4"
   ]
  },
  {
   "attachments": {},
   "cell_type": "markdown",
   "metadata": {},
   "source": [
    "## Preparations"
   ]
  },
  {
   "cell_type": "code",
   "execution_count": 864,
   "metadata": {},
   "outputs": [],
   "source": [
    "# Import libraries\n",
    "import os\n",
    "import pandas as pd\n",
    "import numpy as np\n",
    "import seaborn as sns\n",
    "from matplotlib import pyplot as plt\n",
    "%matplotlib inline\n",
    "\n",
    "import BucketFactory\n",
    "import EncoderFactory\n",
    "from sklearn.pipeline import FeatureUnion, Pipeline\n",
    "import xgboost as xgb\n",
    "from sklearn.metrics import mean_absolute_error"
   ]
  },
  {
   "cell_type": "code",
   "execution_count": 865,
   "metadata": {},
   "outputs": [
    {
     "data": {
      "text/html": [
       "<div>\n",
       "<style scoped>\n",
       "    .dataframe tbody tr th:only-of-type {\n",
       "        vertical-align: middle;\n",
       "    }\n",
       "\n",
       "    .dataframe tbody tr th {\n",
       "        vertical-align: top;\n",
       "    }\n",
       "\n",
       "    .dataframe thead th {\n",
       "        text-align: right;\n",
       "    }\n",
       "</style>\n",
       "<table border=\"1\" class=\"dataframe\">\n",
       "  <thead>\n",
       "    <tr style=\"text-align: right;\">\n",
       "      <th></th>\n",
       "      <th>case_id</th>\n",
       "      <th>AMOUNT_REQ</th>\n",
       "      <th>resource</th>\n",
       "      <th>activity</th>\n",
       "      <th>Start_Time</th>\n",
       "      <th>End_Time</th>\n",
       "      <th>REG_DATE</th>\n",
       "    </tr>\n",
       "  </thead>\n",
       "  <tbody>\n",
       "    <tr>\n",
       "      <th>0</th>\n",
       "      <td>196554</td>\n",
       "      <td>6000</td>\n",
       "      <td>112.0</td>\n",
       "      <td>A_DECLINED</td>\n",
       "      <td>2011-12-29T21:43:20.708</td>\n",
       "      <td>2011-12-29T21:43:20.708</td>\n",
       "      <td>2011-12-29T21:42:45.706</td>\n",
       "    </tr>\n",
       "    <tr>\n",
       "      <th>1</th>\n",
       "      <td>196557</td>\n",
       "      <td>10000</td>\n",
       "      <td>112.0</td>\n",
       "      <td>A_SUBMITTED</td>\n",
       "      <td>2011-12-29T21:48:26.730</td>\n",
       "      <td>2011-12-29T21:48:26.730</td>\n",
       "      <td>2011-12-29T21:48:26.730</td>\n",
       "    </tr>\n",
       "    <tr>\n",
       "      <th>2</th>\n",
       "      <td>196557</td>\n",
       "      <td>10000</td>\n",
       "      <td>112.0</td>\n",
       "      <td>A_PARTLYSUBMITTED</td>\n",
       "      <td>2011-12-29T21:48:26.956</td>\n",
       "      <td>2011-12-29T21:48:26.956</td>\n",
       "      <td>2011-12-29T21:48:26.730</td>\n",
       "    </tr>\n",
       "    <tr>\n",
       "      <th>3</th>\n",
       "      <td>196557</td>\n",
       "      <td>10000</td>\n",
       "      <td>112.0</td>\n",
       "      <td>A_PREACCEPTED</td>\n",
       "      <td>2011-12-29T21:49:09.983</td>\n",
       "      <td>2011-12-29T21:49:09.983</td>\n",
       "      <td>2011-12-29T21:48:26.730</td>\n",
       "    </tr>\n",
       "    <tr>\n",
       "      <th>4</th>\n",
       "      <td>196557</td>\n",
       "      <td>10000</td>\n",
       "      <td>11003.0</td>\n",
       "      <td>W_Completeren aanvraag</td>\n",
       "      <td>2011-12-30T12:23:05.764</td>\n",
       "      <td>2011-12-30T12:37:06.319</td>\n",
       "      <td>2011-12-29T21:48:26.730</td>\n",
       "    </tr>\n",
       "    <tr>\n",
       "      <th>...</th>\n",
       "      <td>...</td>\n",
       "      <td>...</td>\n",
       "      <td>...</td>\n",
       "      <td>...</td>\n",
       "      <td>...</td>\n",
       "      <td>...</td>\n",
       "      <td>...</td>\n",
       "    </tr>\n",
       "    <tr>\n",
       "      <th>12474</th>\n",
       "      <td>202833</td>\n",
       "      <td>10000</td>\n",
       "      <td>112.0</td>\n",
       "      <td>A_SUBMITTED</td>\n",
       "      <td>2012-01-21T16:01:47.362</td>\n",
       "      <td>2012-01-21T16:01:47.362</td>\n",
       "      <td>2012-01-21T16:01:47.362</td>\n",
       "    </tr>\n",
       "    <tr>\n",
       "      <th>12475</th>\n",
       "      <td>202833</td>\n",
       "      <td>10000</td>\n",
       "      <td>112.0</td>\n",
       "      <td>A_PARTLYSUBMITTED</td>\n",
       "      <td>2012-01-21T16:01:47.906</td>\n",
       "      <td>2012-01-21T16:01:47.906</td>\n",
       "      <td>2012-01-21T16:01:47.362</td>\n",
       "    </tr>\n",
       "    <tr>\n",
       "      <th>12476</th>\n",
       "      <td>202833</td>\n",
       "      <td>10000</td>\n",
       "      <td>112.0</td>\n",
       "      <td>A_PREACCEPTED</td>\n",
       "      <td>2012-01-21T16:02:26.922</td>\n",
       "      <td>2012-01-21T16:02:26.922</td>\n",
       "      <td>2012-01-21T16:01:47.362</td>\n",
       "    </tr>\n",
       "    <tr>\n",
       "      <th>12477</th>\n",
       "      <td>202833</td>\n",
       "      <td>10000</td>\n",
       "      <td>10932.0</td>\n",
       "      <td>W_Completeren aanvraag</td>\n",
       "      <td>2012-01-21T16:33:53.726</td>\n",
       "      <td>2012-01-21T16:44:50.485</td>\n",
       "      <td>2012-01-21T16:01:47.362</td>\n",
       "    </tr>\n",
       "    <tr>\n",
       "      <th>12478</th>\n",
       "      <td>202833</td>\n",
       "      <td>10000</td>\n",
       "      <td>10932.0</td>\n",
       "      <td>A_DECLINED</td>\n",
       "      <td>2012-01-21T16:44:47.078</td>\n",
       "      <td>2012-01-21T16:44:47.078</td>\n",
       "      <td>2012-01-21T16:01:47.362</td>\n",
       "    </tr>\n",
       "  </tbody>\n",
       "</table>\n",
       "<p>12479 rows × 7 columns</p>\n",
       "</div>"
      ],
      "text/plain": [
       "       case_id  AMOUNT_REQ  resource                activity  \\\n",
       "0       196554        6000     112.0              A_DECLINED   \n",
       "1       196557       10000     112.0             A_SUBMITTED   \n",
       "2       196557       10000     112.0       A_PARTLYSUBMITTED   \n",
       "3       196557       10000     112.0           A_PREACCEPTED   \n",
       "4       196557       10000   11003.0  W_Completeren aanvraag   \n",
       "...        ...         ...       ...                     ...   \n",
       "12474   202833       10000     112.0             A_SUBMITTED   \n",
       "12475   202833       10000     112.0       A_PARTLYSUBMITTED   \n",
       "12476   202833       10000     112.0           A_PREACCEPTED   \n",
       "12477   202833       10000   10932.0  W_Completeren aanvraag   \n",
       "12478   202833       10000   10932.0              A_DECLINED   \n",
       "\n",
       "                    Start_Time                 End_Time  \\\n",
       "0      2011-12-29T21:43:20.708  2011-12-29T21:43:20.708   \n",
       "1      2011-12-29T21:48:26.730  2011-12-29T21:48:26.730   \n",
       "2      2011-12-29T21:48:26.956  2011-12-29T21:48:26.956   \n",
       "3      2011-12-29T21:49:09.983  2011-12-29T21:49:09.983   \n",
       "4      2011-12-30T12:23:05.764  2011-12-30T12:37:06.319   \n",
       "...                        ...                      ...   \n",
       "12474  2012-01-21T16:01:47.362  2012-01-21T16:01:47.362   \n",
       "12475  2012-01-21T16:01:47.906  2012-01-21T16:01:47.906   \n",
       "12476  2012-01-21T16:02:26.922  2012-01-21T16:02:26.922   \n",
       "12477  2012-01-21T16:33:53.726  2012-01-21T16:44:50.485   \n",
       "12478  2012-01-21T16:44:47.078  2012-01-21T16:44:47.078   \n",
       "\n",
       "                      REG_DATE  \n",
       "0      2011-12-29T21:42:45.706  \n",
       "1      2011-12-29T21:48:26.730  \n",
       "2      2011-12-29T21:48:26.730  \n",
       "3      2011-12-29T21:48:26.730  \n",
       "4      2011-12-29T21:48:26.730  \n",
       "...                        ...  \n",
       "12474  2012-01-21T16:01:47.362  \n",
       "12475  2012-01-21T16:01:47.362  \n",
       "12476  2012-01-21T16:01:47.362  \n",
       "12477  2012-01-21T16:01:47.362  \n",
       "12478  2012-01-21T16:01:47.362  \n",
       "\n",
       "[12479 rows x 7 columns]"
      ]
     },
     "execution_count": 865,
     "metadata": {},
     "output_type": "execute_result"
    }
   ],
   "source": [
    "# Read in the event log\n",
    "log = pd.read_csv(os.path.join('data', 'BPI_Challenge_2012_filtered.csv'), sep=',')\n",
    "log"
   ]
  },
  {
   "cell_type": "code",
   "execution_count": 866,
   "metadata": {},
   "outputs": [
    {
     "data": {
      "text/plain": [
       "case_id         int64\n",
       "AMOUNT_REQ      int64\n",
       "resource      float64\n",
       "activity       object\n",
       "Start_Time     object\n",
       "End_Time       object\n",
       "REG_DATE       object\n",
       "dtype: object"
      ]
     },
     "execution_count": 866,
     "metadata": {},
     "output_type": "execute_result"
    }
   ],
   "source": [
    "# See data types\n",
    "log.dtypes"
   ]
  },
  {
   "cell_type": "code",
   "execution_count": 867,
   "metadata": {},
   "outputs": [
    {
     "data": {
      "text/plain": [
       "case_id                int64\n",
       "AMOUNT_REQ             int64\n",
       "resource               int32\n",
       "activity              object\n",
       "Start_Time    datetime64[ns]\n",
       "End_Time      datetime64[ns]\n",
       "REG_DATE      datetime64[ns]\n",
       "dtype: object"
      ]
     },
     "execution_count": 867,
     "metadata": {},
     "output_type": "execute_result"
    }
   ],
   "source": [
    "# Change data types\n",
    "log['resource'] = log['resource'].astype(int)\n",
    "log['Start_Time'] = pd.to_datetime(log['Start_Time'], infer_datetime_format=True)\n",
    "log['End_Time'] = pd.to_datetime(log['End_Time'], infer_datetime_format=True)\n",
    "log['REG_DATE'] = pd.to_datetime(log['REG_DATE'], infer_datetime_format=True)\n",
    "log.dtypes"
   ]
  },
  {
   "cell_type": "code",
   "execution_count": 868,
   "metadata": {},
   "outputs": [
    {
     "data": {
      "text/plain": [
       "array(['A_DECLINED', 'A_SUBMITTED', 'A_PARTLYSUBMITTED', 'A_PREACCEPTED',\n",
       "       'W_Completeren aanvraag', 'A_CANCELLED', 'W_Afhandelen leads',\n",
       "       'A_ACCEPTED', 'O_SELECTED', 'A_FINALIZED', 'O_CREATED', 'O_SENT',\n",
       "       'W_Nabellen offertes', 'O_CANCELLED', 'O_SENT_BACK',\n",
       "       'W_Valideren aanvraag', 'A_APPROVED', 'O_ACCEPTED', 'A_REGISTERED',\n",
       "       'A_ACTIVATED', 'W_Nabellen incomplete dossiers', 'O_DECLINED',\n",
       "       'W_Beoordelen fraude'], dtype=object)"
      ]
     },
     "execution_count": 868,
     "metadata": {},
     "output_type": "execute_result"
    }
   ],
   "source": [
    "# Check what activities exist in the event log\n",
    "log['activity'].unique()"
   ]
  },
  {
   "cell_type": "code",
   "execution_count": 869,
   "metadata": {},
   "outputs": [
    {
     "data": {
      "text/plain": [
       "case_id       0\n",
       "AMOUNT_REQ    0\n",
       "resource      0\n",
       "activity      0\n",
       "Start_Time    0\n",
       "End_Time      0\n",
       "REG_DATE      0\n",
       "dtype: int64"
      ]
     },
     "execution_count": 869,
     "metadata": {},
     "output_type": "execute_result"
    }
   ],
   "source": [
    "# As we can see, there are no null values\n",
    "log.isna().sum()"
   ]
  },
  {
   "cell_type": "code",
   "execution_count": 870,
   "metadata": {},
   "outputs": [
    {
     "data": {
      "text/html": [
       "<div>\n",
       "<style scoped>\n",
       "    .dataframe tbody tr th:only-of-type {\n",
       "        vertical-align: middle;\n",
       "    }\n",
       "\n",
       "    .dataframe tbody tr th {\n",
       "        vertical-align: top;\n",
       "    }\n",
       "\n",
       "    .dataframe thead th {\n",
       "        text-align: right;\n",
       "    }\n",
       "</style>\n",
       "<table border=\"1\" class=\"dataframe\">\n",
       "  <thead>\n",
       "    <tr style=\"text-align: right;\">\n",
       "      <th></th>\n",
       "      <th>case_id</th>\n",
       "      <th>AMOUNT_REQ</th>\n",
       "      <th>resource</th>\n",
       "      <th>activity</th>\n",
       "      <th>Start_Time</th>\n",
       "      <th>End_Time</th>\n",
       "      <th>REG_DATE</th>\n",
       "    </tr>\n",
       "  </thead>\n",
       "  <tbody>\n",
       "    <tr>\n",
       "      <th>12474</th>\n",
       "      <td>202833</td>\n",
       "      <td>10000</td>\n",
       "      <td>112</td>\n",
       "      <td>A_SUBMITTED</td>\n",
       "      <td>2012-01-21 16:01:47.362</td>\n",
       "      <td>2012-01-21 16:01:47.362</td>\n",
       "      <td>2012-01-21 16:01:47.362</td>\n",
       "    </tr>\n",
       "    <tr>\n",
       "      <th>12475</th>\n",
       "      <td>202833</td>\n",
       "      <td>10000</td>\n",
       "      <td>112</td>\n",
       "      <td>A_PARTLYSUBMITTED</td>\n",
       "      <td>2012-01-21 16:01:47.906</td>\n",
       "      <td>2012-01-21 16:01:47.906</td>\n",
       "      <td>2012-01-21 16:01:47.362</td>\n",
       "    </tr>\n",
       "    <tr>\n",
       "      <th>12476</th>\n",
       "      <td>202833</td>\n",
       "      <td>10000</td>\n",
       "      <td>112</td>\n",
       "      <td>A_PREACCEPTED</td>\n",
       "      <td>2012-01-21 16:02:26.922</td>\n",
       "      <td>2012-01-21 16:02:26.922</td>\n",
       "      <td>2012-01-21 16:01:47.362</td>\n",
       "    </tr>\n",
       "    <tr>\n",
       "      <th>12477</th>\n",
       "      <td>202833</td>\n",
       "      <td>10000</td>\n",
       "      <td>10932</td>\n",
       "      <td>W_Completeren aanvraag</td>\n",
       "      <td>2012-01-21 16:33:53.726</td>\n",
       "      <td>2012-01-21 16:44:50.485</td>\n",
       "      <td>2012-01-21 16:01:47.362</td>\n",
       "    </tr>\n",
       "    <tr>\n",
       "      <th>12478</th>\n",
       "      <td>202833</td>\n",
       "      <td>10000</td>\n",
       "      <td>10932</td>\n",
       "      <td>A_DECLINED</td>\n",
       "      <td>2012-01-21 16:44:47.078</td>\n",
       "      <td>2012-01-21 16:44:47.078</td>\n",
       "      <td>2012-01-21 16:01:47.362</td>\n",
       "    </tr>\n",
       "  </tbody>\n",
       "</table>\n",
       "</div>"
      ],
      "text/plain": [
       "       case_id  AMOUNT_REQ  resource                activity  \\\n",
       "12474   202833       10000       112             A_SUBMITTED   \n",
       "12475   202833       10000       112       A_PARTLYSUBMITTED   \n",
       "12476   202833       10000       112           A_PREACCEPTED   \n",
       "12477   202833       10000     10932  W_Completeren aanvraag   \n",
       "12478   202833       10000     10932              A_DECLINED   \n",
       "\n",
       "                   Start_Time                End_Time                REG_DATE  \n",
       "12474 2012-01-21 16:01:47.362 2012-01-21 16:01:47.362 2012-01-21 16:01:47.362  \n",
       "12475 2012-01-21 16:01:47.906 2012-01-21 16:01:47.906 2012-01-21 16:01:47.362  \n",
       "12476 2012-01-21 16:02:26.922 2012-01-21 16:02:26.922 2012-01-21 16:01:47.362  \n",
       "12477 2012-01-21 16:33:53.726 2012-01-21 16:44:50.485 2012-01-21 16:01:47.362  \n",
       "12478 2012-01-21 16:44:47.078 2012-01-21 16:44:47.078 2012-01-21 16:01:47.362  "
      ]
     },
     "execution_count": 870,
     "metadata": {},
     "output_type": "execute_result"
    }
   ],
   "source": [
    "# See an example of one specific case\n",
    "log[log['case_id']==202833]"
   ]
  },
  {
   "attachments": {},
   "cell_type": "markdown",
   "metadata": {},
   "source": [
    "## Task 1\n",
    "\n",
    "As part of the log preprocessing, we need to calculate the remaining time for each case in the log. This can be done by finding the difference in seconds between the end timestamp of one event and the end timestamp of the last event in the case. To implement this, a new column called \"remtime\" should be created in the log, containing this new feature as an event attribute."
   ]
  },
  {
   "cell_type": "code",
   "execution_count": 871,
   "metadata": {},
   "outputs": [],
   "source": [
    "# Because there is no \"Complete/end timestamp\" for the case in the log, we need to add it.\n",
    "\n",
    "log['complete_timestamp'] = log.groupby('case_id').End_Time.transform('max')"
   ]
  },
  {
   "cell_type": "code",
   "execution_count": 872,
   "metadata": {},
   "outputs": [
    {
     "data": {
      "text/html": [
       "<div>\n",
       "<style scoped>\n",
       "    .dataframe tbody tr th:only-of-type {\n",
       "        vertical-align: middle;\n",
       "    }\n",
       "\n",
       "    .dataframe tbody tr th {\n",
       "        vertical-align: top;\n",
       "    }\n",
       "\n",
       "    .dataframe thead th {\n",
       "        text-align: right;\n",
       "    }\n",
       "</style>\n",
       "<table border=\"1\" class=\"dataframe\">\n",
       "  <thead>\n",
       "    <tr style=\"text-align: right;\">\n",
       "      <th></th>\n",
       "      <th>case_id</th>\n",
       "      <th>AMOUNT_REQ</th>\n",
       "      <th>resource</th>\n",
       "      <th>activity</th>\n",
       "      <th>Start_Time</th>\n",
       "      <th>End_Time</th>\n",
       "      <th>REG_DATE</th>\n",
       "      <th>complete_timestamp</th>\n",
       "    </tr>\n",
       "  </thead>\n",
       "  <tbody>\n",
       "    <tr>\n",
       "      <th>0</th>\n",
       "      <td>196554</td>\n",
       "      <td>6000</td>\n",
       "      <td>112</td>\n",
       "      <td>A_DECLINED</td>\n",
       "      <td>2011-12-29 21:43:20.708</td>\n",
       "      <td>2011-12-29 21:43:20.708</td>\n",
       "      <td>2011-12-29 21:42:45.706</td>\n",
       "      <td>2011-12-29 21:43:20.708</td>\n",
       "    </tr>\n",
       "    <tr>\n",
       "      <th>1</th>\n",
       "      <td>196557</td>\n",
       "      <td>10000</td>\n",
       "      <td>112</td>\n",
       "      <td>A_SUBMITTED</td>\n",
       "      <td>2011-12-29 21:48:26.730</td>\n",
       "      <td>2011-12-29 21:48:26.730</td>\n",
       "      <td>2011-12-29 21:48:26.730</td>\n",
       "      <td>2012-01-02 10:23:29.922</td>\n",
       "    </tr>\n",
       "    <tr>\n",
       "      <th>2</th>\n",
       "      <td>196557</td>\n",
       "      <td>10000</td>\n",
       "      <td>112</td>\n",
       "      <td>A_PARTLYSUBMITTED</td>\n",
       "      <td>2011-12-29 21:48:26.956</td>\n",
       "      <td>2011-12-29 21:48:26.956</td>\n",
       "      <td>2011-12-29 21:48:26.730</td>\n",
       "      <td>2012-01-02 10:23:29.922</td>\n",
       "    </tr>\n",
       "    <tr>\n",
       "      <th>3</th>\n",
       "      <td>196557</td>\n",
       "      <td>10000</td>\n",
       "      <td>112</td>\n",
       "      <td>A_PREACCEPTED</td>\n",
       "      <td>2011-12-29 21:49:09.983</td>\n",
       "      <td>2011-12-29 21:49:09.983</td>\n",
       "      <td>2011-12-29 21:48:26.730</td>\n",
       "      <td>2012-01-02 10:23:29.922</td>\n",
       "    </tr>\n",
       "    <tr>\n",
       "      <th>4</th>\n",
       "      <td>196557</td>\n",
       "      <td>10000</td>\n",
       "      <td>11003</td>\n",
       "      <td>W_Completeren aanvraag</td>\n",
       "      <td>2011-12-30 12:23:05.764</td>\n",
       "      <td>2011-12-30 12:37:06.319</td>\n",
       "      <td>2011-12-29 21:48:26.730</td>\n",
       "      <td>2012-01-02 10:23:29.922</td>\n",
       "    </tr>\n",
       "  </tbody>\n",
       "</table>\n",
       "</div>"
      ],
      "text/plain": [
       "   case_id  AMOUNT_REQ  resource                activity  \\\n",
       "0   196554        6000       112              A_DECLINED   \n",
       "1   196557       10000       112             A_SUBMITTED   \n",
       "2   196557       10000       112       A_PARTLYSUBMITTED   \n",
       "3   196557       10000       112           A_PREACCEPTED   \n",
       "4   196557       10000     11003  W_Completeren aanvraag   \n",
       "\n",
       "               Start_Time                End_Time                REG_DATE  \\\n",
       "0 2011-12-29 21:43:20.708 2011-12-29 21:43:20.708 2011-12-29 21:42:45.706   \n",
       "1 2011-12-29 21:48:26.730 2011-12-29 21:48:26.730 2011-12-29 21:48:26.730   \n",
       "2 2011-12-29 21:48:26.956 2011-12-29 21:48:26.956 2011-12-29 21:48:26.730   \n",
       "3 2011-12-29 21:49:09.983 2011-12-29 21:49:09.983 2011-12-29 21:48:26.730   \n",
       "4 2011-12-30 12:23:05.764 2011-12-30 12:37:06.319 2011-12-29 21:48:26.730   \n",
       "\n",
       "       complete_timestamp  \n",
       "0 2011-12-29 21:43:20.708  \n",
       "1 2012-01-02 10:23:29.922  \n",
       "2 2012-01-02 10:23:29.922  \n",
       "3 2012-01-02 10:23:29.922  \n",
       "4 2012-01-02 10:23:29.922  "
      ]
     },
     "execution_count": 872,
     "metadata": {},
     "output_type": "execute_result"
    }
   ],
   "source": [
    "# Check that case complete timestamp was added\n",
    "log.head()"
   ]
  },
  {
   "cell_type": "code",
   "execution_count": 873,
   "metadata": {},
   "outputs": [
    {
     "data": {
      "text/html": [
       "<div>\n",
       "<style scoped>\n",
       "    .dataframe tbody tr th:only-of-type {\n",
       "        vertical-align: middle;\n",
       "    }\n",
       "\n",
       "    .dataframe tbody tr th {\n",
       "        vertical-align: top;\n",
       "    }\n",
       "\n",
       "    .dataframe thead th {\n",
       "        text-align: right;\n",
       "    }\n",
       "</style>\n",
       "<table border=\"1\" class=\"dataframe\">\n",
       "  <thead>\n",
       "    <tr style=\"text-align: right;\">\n",
       "      <th></th>\n",
       "      <th>case_id</th>\n",
       "      <th>AMOUNT_REQ</th>\n",
       "      <th>resource</th>\n",
       "      <th>activity</th>\n",
       "      <th>Start_Time</th>\n",
       "      <th>End_Time</th>\n",
       "      <th>REG_DATE</th>\n",
       "      <th>complete_timestamp</th>\n",
       "    </tr>\n",
       "  </thead>\n",
       "  <tbody>\n",
       "    <tr>\n",
       "      <th>12474</th>\n",
       "      <td>202833</td>\n",
       "      <td>10000</td>\n",
       "      <td>112</td>\n",
       "      <td>A_SUBMITTED</td>\n",
       "      <td>2012-01-21 16:01:47.362</td>\n",
       "      <td>2012-01-21 16:01:47.362</td>\n",
       "      <td>2012-01-21 16:01:47.362</td>\n",
       "      <td>2012-01-21 16:44:50.485</td>\n",
       "    </tr>\n",
       "    <tr>\n",
       "      <th>12475</th>\n",
       "      <td>202833</td>\n",
       "      <td>10000</td>\n",
       "      <td>112</td>\n",
       "      <td>A_PARTLYSUBMITTED</td>\n",
       "      <td>2012-01-21 16:01:47.906</td>\n",
       "      <td>2012-01-21 16:01:47.906</td>\n",
       "      <td>2012-01-21 16:01:47.362</td>\n",
       "      <td>2012-01-21 16:44:50.485</td>\n",
       "    </tr>\n",
       "    <tr>\n",
       "      <th>12476</th>\n",
       "      <td>202833</td>\n",
       "      <td>10000</td>\n",
       "      <td>112</td>\n",
       "      <td>A_PREACCEPTED</td>\n",
       "      <td>2012-01-21 16:02:26.922</td>\n",
       "      <td>2012-01-21 16:02:26.922</td>\n",
       "      <td>2012-01-21 16:01:47.362</td>\n",
       "      <td>2012-01-21 16:44:50.485</td>\n",
       "    </tr>\n",
       "    <tr>\n",
       "      <th>12477</th>\n",
       "      <td>202833</td>\n",
       "      <td>10000</td>\n",
       "      <td>10932</td>\n",
       "      <td>W_Completeren aanvraag</td>\n",
       "      <td>2012-01-21 16:33:53.726</td>\n",
       "      <td>2012-01-21 16:44:50.485</td>\n",
       "      <td>2012-01-21 16:01:47.362</td>\n",
       "      <td>2012-01-21 16:44:50.485</td>\n",
       "    </tr>\n",
       "    <tr>\n",
       "      <th>12478</th>\n",
       "      <td>202833</td>\n",
       "      <td>10000</td>\n",
       "      <td>10932</td>\n",
       "      <td>A_DECLINED</td>\n",
       "      <td>2012-01-21 16:44:47.078</td>\n",
       "      <td>2012-01-21 16:44:47.078</td>\n",
       "      <td>2012-01-21 16:01:47.362</td>\n",
       "      <td>2012-01-21 16:44:50.485</td>\n",
       "    </tr>\n",
       "  </tbody>\n",
       "</table>\n",
       "</div>"
      ],
      "text/plain": [
       "       case_id  AMOUNT_REQ  resource                activity  \\\n",
       "12474   202833       10000       112             A_SUBMITTED   \n",
       "12475   202833       10000       112       A_PARTLYSUBMITTED   \n",
       "12476   202833       10000       112           A_PREACCEPTED   \n",
       "12477   202833       10000     10932  W_Completeren aanvraag   \n",
       "12478   202833       10000     10932              A_DECLINED   \n",
       "\n",
       "                   Start_Time                End_Time                REG_DATE  \\\n",
       "12474 2012-01-21 16:01:47.362 2012-01-21 16:01:47.362 2012-01-21 16:01:47.362   \n",
       "12475 2012-01-21 16:01:47.906 2012-01-21 16:01:47.906 2012-01-21 16:01:47.362   \n",
       "12476 2012-01-21 16:02:26.922 2012-01-21 16:02:26.922 2012-01-21 16:01:47.362   \n",
       "12477 2012-01-21 16:33:53.726 2012-01-21 16:44:50.485 2012-01-21 16:01:47.362   \n",
       "12478 2012-01-21 16:44:47.078 2012-01-21 16:44:47.078 2012-01-21 16:01:47.362   \n",
       "\n",
       "           complete_timestamp  \n",
       "12474 2012-01-21 16:44:50.485  \n",
       "12475 2012-01-21 16:44:50.485  \n",
       "12476 2012-01-21 16:44:50.485  \n",
       "12477 2012-01-21 16:44:50.485  \n",
       "12478 2012-01-21 16:44:50.485  "
      ]
     },
     "execution_count": 873,
     "metadata": {},
     "output_type": "execute_result"
    }
   ],
   "source": [
    "# See what the result looks like for one specific case\n",
    "log[log['case_id']==202833]"
   ]
  },
  {
   "cell_type": "code",
   "execution_count": 874,
   "metadata": {},
   "outputs": [],
   "source": [
    "# Now we can add the remaining time\n",
    "log['remtime'] = (log['complete_timestamp'] - log['End_Time']).dt.total_seconds()"
   ]
  },
  {
   "cell_type": "code",
   "execution_count": 875,
   "metadata": {},
   "outputs": [
    {
     "data": {
      "text/html": [
       "<div>\n",
       "<style scoped>\n",
       "    .dataframe tbody tr th:only-of-type {\n",
       "        vertical-align: middle;\n",
       "    }\n",
       "\n",
       "    .dataframe tbody tr th {\n",
       "        vertical-align: top;\n",
       "    }\n",
       "\n",
       "    .dataframe thead th {\n",
       "        text-align: right;\n",
       "    }\n",
       "</style>\n",
       "<table border=\"1\" class=\"dataframe\">\n",
       "  <thead>\n",
       "    <tr style=\"text-align: right;\">\n",
       "      <th></th>\n",
       "      <th>case_id</th>\n",
       "      <th>AMOUNT_REQ</th>\n",
       "      <th>resource</th>\n",
       "      <th>activity</th>\n",
       "      <th>Start_Time</th>\n",
       "      <th>End_Time</th>\n",
       "      <th>REG_DATE</th>\n",
       "      <th>complete_timestamp</th>\n",
       "      <th>remtime</th>\n",
       "    </tr>\n",
       "  </thead>\n",
       "  <tbody>\n",
       "    <tr>\n",
       "      <th>0</th>\n",
       "      <td>196554</td>\n",
       "      <td>6000</td>\n",
       "      <td>112</td>\n",
       "      <td>A_DECLINED</td>\n",
       "      <td>2011-12-29 21:43:20.708</td>\n",
       "      <td>2011-12-29 21:43:20.708</td>\n",
       "      <td>2011-12-29 21:42:45.706</td>\n",
       "      <td>2011-12-29 21:43:20.708</td>\n",
       "      <td>0.000</td>\n",
       "    </tr>\n",
       "    <tr>\n",
       "      <th>1</th>\n",
       "      <td>196557</td>\n",
       "      <td>10000</td>\n",
       "      <td>112</td>\n",
       "      <td>A_SUBMITTED</td>\n",
       "      <td>2011-12-29 21:48:26.730</td>\n",
       "      <td>2011-12-29 21:48:26.730</td>\n",
       "      <td>2011-12-29 21:48:26.730</td>\n",
       "      <td>2012-01-02 10:23:29.922</td>\n",
       "      <td>304503.192</td>\n",
       "    </tr>\n",
       "    <tr>\n",
       "      <th>2</th>\n",
       "      <td>196557</td>\n",
       "      <td>10000</td>\n",
       "      <td>112</td>\n",
       "      <td>A_PARTLYSUBMITTED</td>\n",
       "      <td>2011-12-29 21:48:26.956</td>\n",
       "      <td>2011-12-29 21:48:26.956</td>\n",
       "      <td>2011-12-29 21:48:26.730</td>\n",
       "      <td>2012-01-02 10:23:29.922</td>\n",
       "      <td>304502.966</td>\n",
       "    </tr>\n",
       "    <tr>\n",
       "      <th>3</th>\n",
       "      <td>196557</td>\n",
       "      <td>10000</td>\n",
       "      <td>112</td>\n",
       "      <td>A_PREACCEPTED</td>\n",
       "      <td>2011-12-29 21:49:09.983</td>\n",
       "      <td>2011-12-29 21:49:09.983</td>\n",
       "      <td>2011-12-29 21:48:26.730</td>\n",
       "      <td>2012-01-02 10:23:29.922</td>\n",
       "      <td>304459.939</td>\n",
       "    </tr>\n",
       "    <tr>\n",
       "      <th>4</th>\n",
       "      <td>196557</td>\n",
       "      <td>10000</td>\n",
       "      <td>11003</td>\n",
       "      <td>W_Completeren aanvraag</td>\n",
       "      <td>2011-12-30 12:23:05.764</td>\n",
       "      <td>2011-12-30 12:37:06.319</td>\n",
       "      <td>2011-12-29 21:48:26.730</td>\n",
       "      <td>2012-01-02 10:23:29.922</td>\n",
       "      <td>251183.603</td>\n",
       "    </tr>\n",
       "  </tbody>\n",
       "</table>\n",
       "</div>"
      ],
      "text/plain": [
       "   case_id  AMOUNT_REQ  resource                activity  \\\n",
       "0   196554        6000       112              A_DECLINED   \n",
       "1   196557       10000       112             A_SUBMITTED   \n",
       "2   196557       10000       112       A_PARTLYSUBMITTED   \n",
       "3   196557       10000       112           A_PREACCEPTED   \n",
       "4   196557       10000     11003  W_Completeren aanvraag   \n",
       "\n",
       "               Start_Time                End_Time                REG_DATE  \\\n",
       "0 2011-12-29 21:43:20.708 2011-12-29 21:43:20.708 2011-12-29 21:42:45.706   \n",
       "1 2011-12-29 21:48:26.730 2011-12-29 21:48:26.730 2011-12-29 21:48:26.730   \n",
       "2 2011-12-29 21:48:26.956 2011-12-29 21:48:26.956 2011-12-29 21:48:26.730   \n",
       "3 2011-12-29 21:49:09.983 2011-12-29 21:49:09.983 2011-12-29 21:48:26.730   \n",
       "4 2011-12-30 12:23:05.764 2011-12-30 12:37:06.319 2011-12-29 21:48:26.730   \n",
       "\n",
       "       complete_timestamp     remtime  \n",
       "0 2011-12-29 21:43:20.708       0.000  \n",
       "1 2012-01-02 10:23:29.922  304503.192  \n",
       "2 2012-01-02 10:23:29.922  304502.966  \n",
       "3 2012-01-02 10:23:29.922  304459.939  \n",
       "4 2012-01-02 10:23:29.922  251183.603  "
      ]
     },
     "execution_count": 875,
     "metadata": {},
     "output_type": "execute_result"
    }
   ],
   "source": [
    "log.head()"
   ]
  },
  {
   "attachments": {},
   "cell_type": "markdown",
   "metadata": {},
   "source": [
    "## Task 2\n",
    "One way to improve the model's precision is by extracting new time contextual features from the timestamps. These features can provide meaningful information to the model about possible seasonal influences on the process behavior. For example, from a start timestamp like \"2023-04-18 13:00:00\", we can extract the month of the year (e.g., 04), the day of the week (e.g., 2 for Tuesday, where Monday is 0 and Sunday is 6), and the relative time in seconds since midnight (e.g., 2808000 for 1:00 PM, as midnight is 0). To implement this, six new columns must be created in the log, containing these three contextual features for the start and complete timestamps. NB! Consider using the weekday() method from Python."
   ]
  },
  {
   "cell_type": "code",
   "execution_count": 876,
   "metadata": {},
   "outputs": [],
   "source": [
    "# Add day of the week\n",
    "log['start_day'] = log['Start_Time'].dt.dayofweek\n",
    "log['end_day'] = log['End_Time'].dt.dayofweek\n",
    "\n",
    "# Add the month\n",
    "log['start_month'] = log['Start_Time'].dt.month\n",
    "log['end_month'] = log['End_Time'].dt.month"
   ]
  },
  {
   "cell_type": "code",
   "execution_count": 877,
   "metadata": {},
   "outputs": [],
   "source": [
    "# Function for calculating the relative time (seconds since midnight)\n",
    "# Source of this function: https://stackoverflow.com/questions/54787146/get-the-time-spent-since-midnight-in-dataframe\n",
    "def secSinceMidnight(datTimStr):\n",
    "    tt = pd.to_datetime(datTimStr).time()\n",
    "    return tt.hour * 3600 + tt.minute * 60 + tt.second"
   ]
  },
  {
   "cell_type": "code",
   "execution_count": 878,
   "metadata": {},
   "outputs": [],
   "source": [
    "# Add the relative time\n",
    "log['start_since_midnight'] = log['Start_Time'].apply(secSinceMidnight)\n",
    "log['end_since_midnight'] = log['End_Time'].apply(secSinceMidnight)"
   ]
  },
  {
   "cell_type": "code",
   "execution_count": 879,
   "metadata": {},
   "outputs": [
    {
     "data": {
      "text/html": [
       "<div>\n",
       "<style scoped>\n",
       "    .dataframe tbody tr th:only-of-type {\n",
       "        vertical-align: middle;\n",
       "    }\n",
       "\n",
       "    .dataframe tbody tr th {\n",
       "        vertical-align: top;\n",
       "    }\n",
       "\n",
       "    .dataframe thead th {\n",
       "        text-align: right;\n",
       "    }\n",
       "</style>\n",
       "<table border=\"1\" class=\"dataframe\">\n",
       "  <thead>\n",
       "    <tr style=\"text-align: right;\">\n",
       "      <th></th>\n",
       "      <th>case_id</th>\n",
       "      <th>AMOUNT_REQ</th>\n",
       "      <th>resource</th>\n",
       "      <th>activity</th>\n",
       "      <th>Start_Time</th>\n",
       "      <th>End_Time</th>\n",
       "      <th>REG_DATE</th>\n",
       "      <th>complete_timestamp</th>\n",
       "      <th>remtime</th>\n",
       "      <th>start_day</th>\n",
       "      <th>end_day</th>\n",
       "      <th>start_month</th>\n",
       "      <th>end_month</th>\n",
       "      <th>start_since_midnight</th>\n",
       "      <th>end_since_midnight</th>\n",
       "    </tr>\n",
       "  </thead>\n",
       "  <tbody>\n",
       "    <tr>\n",
       "      <th>0</th>\n",
       "      <td>196554</td>\n",
       "      <td>6000</td>\n",
       "      <td>112</td>\n",
       "      <td>A_DECLINED</td>\n",
       "      <td>2011-12-29 21:43:20.708</td>\n",
       "      <td>2011-12-29 21:43:20.708</td>\n",
       "      <td>2011-12-29 21:42:45.706</td>\n",
       "      <td>2011-12-29 21:43:20.708</td>\n",
       "      <td>0.000</td>\n",
       "      <td>3</td>\n",
       "      <td>3</td>\n",
       "      <td>12</td>\n",
       "      <td>12</td>\n",
       "      <td>78200</td>\n",
       "      <td>78200</td>\n",
       "    </tr>\n",
       "    <tr>\n",
       "      <th>1</th>\n",
       "      <td>196557</td>\n",
       "      <td>10000</td>\n",
       "      <td>112</td>\n",
       "      <td>A_SUBMITTED</td>\n",
       "      <td>2011-12-29 21:48:26.730</td>\n",
       "      <td>2011-12-29 21:48:26.730</td>\n",
       "      <td>2011-12-29 21:48:26.730</td>\n",
       "      <td>2012-01-02 10:23:29.922</td>\n",
       "      <td>304503.192</td>\n",
       "      <td>3</td>\n",
       "      <td>3</td>\n",
       "      <td>12</td>\n",
       "      <td>12</td>\n",
       "      <td>78506</td>\n",
       "      <td>78506</td>\n",
       "    </tr>\n",
       "    <tr>\n",
       "      <th>2</th>\n",
       "      <td>196557</td>\n",
       "      <td>10000</td>\n",
       "      <td>112</td>\n",
       "      <td>A_PARTLYSUBMITTED</td>\n",
       "      <td>2011-12-29 21:48:26.956</td>\n",
       "      <td>2011-12-29 21:48:26.956</td>\n",
       "      <td>2011-12-29 21:48:26.730</td>\n",
       "      <td>2012-01-02 10:23:29.922</td>\n",
       "      <td>304502.966</td>\n",
       "      <td>3</td>\n",
       "      <td>3</td>\n",
       "      <td>12</td>\n",
       "      <td>12</td>\n",
       "      <td>78506</td>\n",
       "      <td>78506</td>\n",
       "    </tr>\n",
       "    <tr>\n",
       "      <th>3</th>\n",
       "      <td>196557</td>\n",
       "      <td>10000</td>\n",
       "      <td>112</td>\n",
       "      <td>A_PREACCEPTED</td>\n",
       "      <td>2011-12-29 21:49:09.983</td>\n",
       "      <td>2011-12-29 21:49:09.983</td>\n",
       "      <td>2011-12-29 21:48:26.730</td>\n",
       "      <td>2012-01-02 10:23:29.922</td>\n",
       "      <td>304459.939</td>\n",
       "      <td>3</td>\n",
       "      <td>3</td>\n",
       "      <td>12</td>\n",
       "      <td>12</td>\n",
       "      <td>78549</td>\n",
       "      <td>78549</td>\n",
       "    </tr>\n",
       "    <tr>\n",
       "      <th>4</th>\n",
       "      <td>196557</td>\n",
       "      <td>10000</td>\n",
       "      <td>11003</td>\n",
       "      <td>W_Completeren aanvraag</td>\n",
       "      <td>2011-12-30 12:23:05.764</td>\n",
       "      <td>2011-12-30 12:37:06.319</td>\n",
       "      <td>2011-12-29 21:48:26.730</td>\n",
       "      <td>2012-01-02 10:23:29.922</td>\n",
       "      <td>251183.603</td>\n",
       "      <td>4</td>\n",
       "      <td>4</td>\n",
       "      <td>12</td>\n",
       "      <td>12</td>\n",
       "      <td>44585</td>\n",
       "      <td>45426</td>\n",
       "    </tr>\n",
       "  </tbody>\n",
       "</table>\n",
       "</div>"
      ],
      "text/plain": [
       "   case_id  AMOUNT_REQ  resource                activity  \\\n",
       "0   196554        6000       112              A_DECLINED   \n",
       "1   196557       10000       112             A_SUBMITTED   \n",
       "2   196557       10000       112       A_PARTLYSUBMITTED   \n",
       "3   196557       10000       112           A_PREACCEPTED   \n",
       "4   196557       10000     11003  W_Completeren aanvraag   \n",
       "\n",
       "               Start_Time                End_Time                REG_DATE  \\\n",
       "0 2011-12-29 21:43:20.708 2011-12-29 21:43:20.708 2011-12-29 21:42:45.706   \n",
       "1 2011-12-29 21:48:26.730 2011-12-29 21:48:26.730 2011-12-29 21:48:26.730   \n",
       "2 2011-12-29 21:48:26.956 2011-12-29 21:48:26.956 2011-12-29 21:48:26.730   \n",
       "3 2011-12-29 21:49:09.983 2011-12-29 21:49:09.983 2011-12-29 21:48:26.730   \n",
       "4 2011-12-30 12:23:05.764 2011-12-30 12:37:06.319 2011-12-29 21:48:26.730   \n",
       "\n",
       "       complete_timestamp     remtime  start_day  end_day  start_month  \\\n",
       "0 2011-12-29 21:43:20.708       0.000          3        3           12   \n",
       "1 2012-01-02 10:23:29.922  304503.192          3        3           12   \n",
       "2 2012-01-02 10:23:29.922  304502.966          3        3           12   \n",
       "3 2012-01-02 10:23:29.922  304459.939          3        3           12   \n",
       "4 2012-01-02 10:23:29.922  251183.603          4        4           12   \n",
       "\n",
       "   end_month  start_since_midnight  end_since_midnight  \n",
       "0         12                 78200               78200  \n",
       "1         12                 78506               78506  \n",
       "2         12                 78506               78506  \n",
       "3         12                 78549               78549  \n",
       "4         12                 44585               45426  "
      ]
     },
     "execution_count": 879,
     "metadata": {},
     "output_type": "execute_result"
    }
   ],
   "source": [
    "# Check the result\n",
    "log.head()"
   ]
  },
  {
   "attachments": {},
   "cell_type": "markdown",
   "metadata": {},
   "source": [
    "## Task 3\n",
    "\n",
    "Given the “remtime” column in Task 1 and the contextual features columns in Task 2, train an XGBoost Regressor using single bucketing and aggregation encoding."
   ]
  },
  {
   "cell_type": "code",
   "execution_count": 880,
   "metadata": {},
   "outputs": [],
   "source": [
    "# Create the log schema\n",
    "log_schema = {'case_id_col': 'case_id',\n",
    "              'timestamp_col': 'complete_timestamp',\n",
    "              'activity_col': 'activity',\n",
    "              'label': 'remtime',\n",
    "              'static_cat_cols': [],\n",
    "              'static_num_cols': [\"AMOUNT_REQ\"],\n",
    "              'dynamic_cat_cols': [\"activity\", \"resource\", \"start_day\", \"end_day\"],\n",
    "              'dynamic_num_cols': [\"start_month\", \"end_month\", \"start_since_midnight\", \"end_since_midnight\"], \n",
    "             }"
   ]
  },
  {
   "attachments": {},
   "cell_type": "markdown",
   "metadata": {},
   "source": [
    "### Train-test split"
   ]
  },
  {
   "cell_type": "code",
   "execution_count": 881,
   "metadata": {},
   "outputs": [],
   "source": [
    "# This function is from practice materials\n",
    "# Split into training and test\n",
    "\n",
    "def temporal_split(data, log_schema, train_ratio):  \n",
    "    # Split into train and test using temporal split and discard events that overlap the periods\n",
    "    data = data.sort_values([log_schema.get('timestamp_col'), log_schema.get('activity_col')], ascending=True, kind='mergesort')\n",
    "    grouped = data.groupby(log_schema.get('case_id_col'))\n",
    "    start_timestamps = grouped[log_schema.get('timestamp_col')].min().reset_index()\n",
    "    start_timestamps = start_timestamps.sort_values(log_schema.get('timestamp_col'), ascending=True, kind='mergesort')\n",
    "    train_ids = list(start_timestamps[log_schema.get('case_id_col')])[:int(train_ratio*len(start_timestamps))]\n",
    "    train = data[data[log_schema.get('case_id_col')].isin(train_ids)].sort_values([log_schema.get('timestamp_col'), log_schema.get('activity_col')], ascending=True, kind='mergesort')\n",
    "    test = data[~data[log_schema.get('case_id_col')].isin(train_ids)].sort_values([log_schema.get('timestamp_col'), log_schema.get('activity_col')], ascending=True, kind='mergesort')\n",
    "    split_ts = test[log_schema.get('timestamp_col')].min()\n",
    "    train = train[train[log_schema.get('timestamp_col')] < split_ts]\n",
    "    return (train, test)"
   ]
  },
  {
   "cell_type": "code",
   "execution_count": 882,
   "metadata": {},
   "outputs": [
    {
     "data": {
      "text/plain": [
       "(8839, 3640)"
      ]
     },
     "execution_count": 882,
     "metadata": {},
     "output_type": "execute_result"
    }
   ],
   "source": [
    "# Do the temporal split into train and test set\n",
    "train, test = temporal_split(log, log_schema, 0.8)\n",
    "len(train), len(test)"
   ]
  },
  {
   "attachments": {},
   "cell_type": "markdown",
   "metadata": {},
   "source": [
    "### Prefix data"
   ]
  },
  {
   "cell_type": "code",
   "execution_count": 883,
   "metadata": {},
   "outputs": [],
   "source": [
    "# Determine min and max (truncated) prefix lengths\n",
    "# From practice materials\n",
    "min_prefix_length = 1\n",
    "def get_pos_case_length_quantile(data, log_schema, quantile=0.90):\n",
    "    return int(np.ceil(data.groupby(log_schema.get('case_id_col')).size().quantile(quantile)))\n",
    "max_prefix_length = min(40, get_pos_case_length_quantile(log, log_schema, 0.90))"
   ]
  },
  {
   "cell_type": "code",
   "execution_count": 884,
   "metadata": {},
   "outputs": [],
   "source": [
    "\n",
    "# Function is from practice materials\n",
    "def generate_prefix_data(data, min_length, max_length, log_schema, gap=1):\n",
    "    # generate prefix data (each possible prefix becomes a trace)\n",
    "    data['case_length'] = data.groupby(log_schema.get('case_id_col'))[log_schema.get('activity_col')].transform(len)\n",
    "\n",
    "    dt_prefixes = data[data['case_length'] >= min_length].groupby(log_schema.get('case_id_col')).head(min_length)\n",
    "    dt_prefixes[\"prefix_nr\"] = 1\n",
    "    dt_prefixes[\"orig_case_id\"] = dt_prefixes[log_schema.get('case_id_col')]\n",
    "    for nr_events in range(min_length+gap, max_length+1, gap):\n",
    "        tmp = data[data['case_length'] >= nr_events].groupby(log_schema.get('case_id_col')).head(nr_events)\n",
    "        tmp[\"orig_case_id\"] = tmp[log_schema.get('case_id_col')]\n",
    "        tmp[log_schema.get('case_id_col')] = tmp[log_schema.get('case_id_col')].apply(lambda x: \"%s_%s\"%(x, nr_events))\n",
    "        tmp[\"prefix_nr\"] = nr_events\n",
    "        dt_prefixes = pd.concat([dt_prefixes, tmp], axis=0)\n",
    "\n",
    "    dt_prefixes['case_length'] = dt_prefixes['case_length'].apply(lambda x: min(max_length, x))\n",
    "\n",
    "    return dt_prefixes"
   ]
  },
  {
   "cell_type": "code",
   "execution_count": 885,
   "metadata": {},
   "outputs": [],
   "source": [
    "dt_train_prefixes = generate_prefix_data(train, min_prefix_length, max_prefix_length, log_schema)\n",
    "dt_test_prefixes = generate_prefix_data(test, min_prefix_length, max_prefix_length, log_schema)"
   ]
  },
  {
   "cell_type": "code",
   "execution_count": 886,
   "metadata": {},
   "outputs": [
    {
     "data": {
      "text/plain": [
       "46247"
      ]
     },
     "execution_count": 886,
     "metadata": {},
     "output_type": "execute_result"
    }
   ],
   "source": [
    "len(dt_train_prefixes)"
   ]
  },
  {
   "cell_type": "code",
   "execution_count": 887,
   "metadata": {},
   "outputs": [
    {
     "name": "stdout",
     "output_type": "stream",
     "text": [
      "[ 1  2  3  4  5  6  7  8  9 10 11 12 13 14 15 16 17 18 19]\n"
     ]
    }
   ],
   "source": [
    "print(dt_train_prefixes.prefix_nr.unique())"
   ]
  },
  {
   "attachments": {},
   "cell_type": "markdown",
   "metadata": {},
   "source": [
    "### Single Bucketing"
   ]
  },
  {
   "cell_type": "code",
   "execution_count": 888,
   "metadata": {},
   "outputs": [],
   "source": [
    "random_state = 22\n",
    "bucketer_args = {'case_id_col': log_schema.get('case_id_col'), \n",
    "                 'cat_cols':[log_schema.get('activity_col')], \n",
    "                 'num_cols':[], \n",
    "                 'random_state':random_state}"
   ]
  },
  {
   "cell_type": "code",
   "execution_count": 889,
   "metadata": {},
   "outputs": [],
   "source": [
    "bucket_method = 'single'\n",
    "bucketer = BucketFactory.get_bucketer(bucket_method, **bucketer_args)\n",
    "bucket_assignments_train = bucketer.fit_predict(dt_train_prefixes)\n",
    "bucket_assignments_test = bucketer.predict(dt_test_prefixes)"
   ]
  },
  {
   "cell_type": "code",
   "execution_count": 890,
   "metadata": {},
   "outputs": [
    {
     "name": "stdout",
     "output_type": "stream",
     "text": [
      "Train assignments:\n",
      "1    8222\n",
      "Name: bucket, dtype: int64\n",
      "Test assignments:\n",
      "1    3069\n",
      "Name: bucket, dtype: int64\n"
     ]
    }
   ],
   "source": [
    "print('Train assignments:')\n",
    "bucket_assignments_train\n",
    "print(pd.DataFrame(bucket_assignments_train, columns=['bucket']).bucket.value_counts())\n",
    "print('Test assignments:')\n",
    "bucket_assignments_test\n",
    "print(pd.DataFrame(bucket_assignments_test, columns=['bucket']).bucket.value_counts())"
   ]
  },
  {
   "cell_type": "code",
   "execution_count": 891,
   "metadata": {},
   "outputs": [
    {
     "data": {
      "text/plain": [
       "1"
      ]
     },
     "execution_count": 891,
     "metadata": {},
     "output_type": "execute_result"
    }
   ],
   "source": [
    "bucketer.n_states"
   ]
  },
  {
   "cell_type": "code",
   "execution_count": 892,
   "metadata": {},
   "outputs": [],
   "source": [
    "def get_label_numeric(data):\n",
    "    y = data.groupby(log_schema.get('case_id_col')).first()[log_schema.get('label')] # one row per case\n",
    "    return y"
   ]
  },
  {
   "cell_type": "code",
   "execution_count": 893,
   "metadata": {},
   "outputs": [
    {
     "name": "stdout",
     "output_type": "stream",
     "text": [
      "Index([    195455,     195458,     195461,     195464,     195467,     195470,\n",
      "           195473,     195485,     195491,     195497,\n",
      "       ...\n",
      "       '201689_2', '201689_3', '201689_4', '201689_5', '201698_2', '201698_3',\n",
      "       '201707_2', '201707_3', '201734_2', '201734_3'],\n",
      "      dtype='object', name='case_id', length=8222)\n"
     ]
    }
   ],
   "source": [
    "bucket_indexes = dt_train_prefixes.groupby(log_schema.get('case_id_col')).first().index\n",
    "bucket_indexes = bucket_indexes[bucket_assignments_train == 1]\n",
    "print(bucket_indexes)\n",
    "\n",
    "bucket_data = dt_train_prefixes[dt_train_prefixes[log_schema.get('case_id_col')].isin(bucket_indexes)]\n",
    "train_y = get_label_numeric(bucket_data)"
   ]
  },
  {
   "cell_type": "code",
   "execution_count": 894,
   "metadata": {},
   "outputs": [
    {
     "data": {
      "text/plain": [
       "case_id\n",
       "195455      847904.751\n",
       "195458      573988.243\n",
       "195461           3.262\n",
       "195464           0.000\n",
       "195467           0.000\n",
       "               ...    \n",
       "201698_3         0.000\n",
       "201707_2         0.000\n",
       "201707_3         0.000\n",
       "201734_2         0.000\n",
       "201734_3         0.000\n",
       "Name: remtime, Length: 8222, dtype: float64"
      ]
     },
     "execution_count": 894,
     "metadata": {},
     "output_type": "execute_result"
    }
   ],
   "source": [
    "train_y"
   ]
  },
  {
   "cell_type": "code",
   "execution_count": 895,
   "metadata": {},
   "outputs": [
    {
     "name": "stdout",
     "output_type": "stream",
     "text": [
      "Index([    195539,     195606,     195678,     195743,     195941,     195988,\n",
      "           196072,     196126,     196225,     196228,\n",
      "       ...\n",
      "       '202812_3', '202812_4', '202812_5', '202812_6', '202827_2', '202827_3',\n",
      "       '202833_2', '202833_3', '202833_4', '202833_5'],\n",
      "      dtype='object', name='case_id', length=3069)\n"
     ]
    }
   ],
   "source": [
    "bucket_indexes = dt_test_prefixes.groupby(log_schema.get('case_id_col')).first().index\n",
    "bucket_indexes = bucket_indexes[bucket_assignments_test == 1]\n",
    "print(bucket_indexes)\n",
    "bucket_data_test = dt_test_prefixes[dt_test_prefixes[log_schema.get('case_id_col')].isin(bucket_indexes)]\n",
    "test_y = get_label_numeric(bucket_data_test)"
   ]
  },
  {
   "cell_type": "code",
   "execution_count": 896,
   "metadata": {},
   "outputs": [
    {
     "data": {
      "text/plain": [
       "case_id\n",
       "195539      2147361.234\n",
       "195606      1920013.526\n",
       "195678      1920469.001\n",
       "195743      2070985.062\n",
       "195941      1809215.079\n",
       "               ...     \n",
       "202827_3          0.000\n",
       "202833_2          3.407\n",
       "202833_3          3.407\n",
       "202833_4          3.407\n",
       "202833_5          3.407\n",
       "Name: remtime, Length: 3069, dtype: float64"
      ]
     },
     "execution_count": 896,
     "metadata": {},
     "output_type": "execute_result"
    }
   ],
   "source": [
    "test_y"
   ]
  },
  {
   "attachments": {},
   "cell_type": "markdown",
   "metadata": {},
   "source": [
    "### Regressor Pipeline: create encodings and train an XGBoost Regressor"
   ]
  },
  {
   "cell_type": "code",
   "execution_count": 897,
   "metadata": {},
   "outputs": [
    {
     "data": {
      "text/html": [
       "<style>#sk-container-id-48 {color: black;background-color: white;}#sk-container-id-48 pre{padding: 0;}#sk-container-id-48 div.sk-toggleable {background-color: white;}#sk-container-id-48 label.sk-toggleable__label {cursor: pointer;display: block;width: 100%;margin-bottom: 0;padding: 0.3em;box-sizing: border-box;text-align: center;}#sk-container-id-48 label.sk-toggleable__label-arrow:before {content: \"▸\";float: left;margin-right: 0.25em;color: #696969;}#sk-container-id-48 label.sk-toggleable__label-arrow:hover:before {color: black;}#sk-container-id-48 div.sk-estimator:hover label.sk-toggleable__label-arrow:before {color: black;}#sk-container-id-48 div.sk-toggleable__content {max-height: 0;max-width: 0;overflow: hidden;text-align: left;background-color: #f0f8ff;}#sk-container-id-48 div.sk-toggleable__content pre {margin: 0.2em;color: black;border-radius: 0.25em;background-color: #f0f8ff;}#sk-container-id-48 input.sk-toggleable__control:checked~div.sk-toggleable__content {max-height: 200px;max-width: 100%;overflow: auto;}#sk-container-id-48 input.sk-toggleable__control:checked~label.sk-toggleable__label-arrow:before {content: \"▾\";}#sk-container-id-48 div.sk-estimator input.sk-toggleable__control:checked~label.sk-toggleable__label {background-color: #d4ebff;}#sk-container-id-48 div.sk-label input.sk-toggleable__control:checked~label.sk-toggleable__label {background-color: #d4ebff;}#sk-container-id-48 input.sk-hidden--visually {border: 0;clip: rect(1px 1px 1px 1px);clip: rect(1px, 1px, 1px, 1px);height: 1px;margin: -1px;overflow: hidden;padding: 0;position: absolute;width: 1px;}#sk-container-id-48 div.sk-estimator {font-family: monospace;background-color: #f0f8ff;border: 1px dotted black;border-radius: 0.25em;box-sizing: border-box;margin-bottom: 0.5em;}#sk-container-id-48 div.sk-estimator:hover {background-color: #d4ebff;}#sk-container-id-48 div.sk-parallel-item::after {content: \"\";width: 100%;border-bottom: 1px solid gray;flex-grow: 1;}#sk-container-id-48 div.sk-label:hover label.sk-toggleable__label {background-color: #d4ebff;}#sk-container-id-48 div.sk-serial::before {content: \"\";position: absolute;border-left: 1px solid gray;box-sizing: border-box;top: 0;bottom: 0;left: 50%;z-index: 0;}#sk-container-id-48 div.sk-serial {display: flex;flex-direction: column;align-items: center;background-color: white;padding-right: 0.2em;padding-left: 0.2em;position: relative;}#sk-container-id-48 div.sk-item {position: relative;z-index: 1;}#sk-container-id-48 div.sk-parallel {display: flex;align-items: stretch;justify-content: center;background-color: white;position: relative;}#sk-container-id-48 div.sk-item::before, #sk-container-id-48 div.sk-parallel-item::before {content: \"\";position: absolute;border-left: 1px solid gray;box-sizing: border-box;top: 0;bottom: 0;left: 50%;z-index: -1;}#sk-container-id-48 div.sk-parallel-item {display: flex;flex-direction: column;z-index: 1;position: relative;background-color: white;}#sk-container-id-48 div.sk-parallel-item:first-child::after {align-self: flex-end;width: 50%;}#sk-container-id-48 div.sk-parallel-item:last-child::after {align-self: flex-start;width: 50%;}#sk-container-id-48 div.sk-parallel-item:only-child::after {width: 0;}#sk-container-id-48 div.sk-dashed-wrapped {border: 1px dashed gray;margin: 0 0.4em 0.5em 0.4em;box-sizing: border-box;padding-bottom: 0.4em;background-color: white;}#sk-container-id-48 div.sk-label label {font-family: monospace;font-weight: bold;display: inline-block;line-height: 1.2em;}#sk-container-id-48 div.sk-label-container {text-align: center;}#sk-container-id-48 div.sk-container {/* jupyter's `normalize.less` sets `[hidden] { display: none; }` but bootstrap.min.css set `[hidden] { display: none !important; }` so we also need the `!important` here to be able to override the default hidden behavior on the sphinx rendered scikit-learn.org. See: https://github.com/scikit-learn/scikit-learn/issues/21755 */display: inline-block !important;position: relative;}#sk-container-id-48 div.sk-text-repr-fallback {display: none;}</style><div id=\"sk-container-id-48\" class=\"sk-top-container\"><div class=\"sk-text-repr-fallback\"><pre>FeatureUnion(transformer_list=[(&#x27;agg&#x27;,\n",
       "                                &lt;transformers.AggregateTransformer.AggregateTransformer object at 0x00000225325D2AA0&gt;)])</pre><b>In a Jupyter environment, please rerun this cell to show the HTML representation or trust the notebook. <br />On GitHub, the HTML representation is unable to render, please try loading this page with nbviewer.org.</b></div><div class=\"sk-container\" hidden><div class=\"sk-item sk-dashed-wrapped\"><div class=\"sk-label-container\"><div class=\"sk-label sk-toggleable\"><input class=\"sk-toggleable__control sk-hidden--visually\" id=\"sk-estimator-id-146\" type=\"checkbox\" ><label for=\"sk-estimator-id-146\" class=\"sk-toggleable__label sk-toggleable__label-arrow\">FeatureUnion</label><div class=\"sk-toggleable__content\"><pre>FeatureUnion(transformer_list=[(&#x27;agg&#x27;,\n",
       "                                &lt;transformers.AggregateTransformer.AggregateTransformer object at 0x00000225325D2AA0&gt;)])</pre></div></div></div><div class=\"sk-parallel\"><div class=\"sk-parallel-item\"><div class=\"sk-item\"><div class=\"sk-label-container\"><div class=\"sk-label sk-toggleable\"><label>agg</label></div></div><div class=\"sk-serial\"><div class=\"sk-item\"><div class=\"sk-estimator sk-toggleable\"><input class=\"sk-toggleable__control sk-hidden--visually\" id=\"sk-estimator-id-147\" type=\"checkbox\" ><label for=\"sk-estimator-id-147\" class=\"sk-toggleable__label sk-toggleable__label-arrow\">AggregateTransformer</label><div class=\"sk-toggleable__content\"><pre>&lt;transformers.AggregateTransformer.AggregateTransformer object at 0x00000225325D2AA0&gt;</pre></div></div></div></div></div></div></div></div></div></div>"
      ],
      "text/plain": [
       "FeatureUnion(transformer_list=[('agg',\n",
       "                                <transformers.AggregateTransformer.AggregateTransformer object at 0x00000225325D2AA0>)])"
      ]
     },
     "execution_count": 897,
     "metadata": {},
     "output_type": "execute_result"
    }
   ],
   "source": [
    "methods = ['agg'] # Aggregation encoding\n",
    "feature_combiner = FeatureUnion([(method, EncoderFactory.get_encoder(method, **log_schema)) for method in methods])\n",
    "feature_combiner"
   ]
  },
  {
   "cell_type": "code",
   "execution_count": 898,
   "metadata": {},
   "outputs": [],
   "source": [
    "model = xgb.XGBRegressor(n_estimators=400, learning_rate=0.3, n_jobs=2)"
   ]
  },
  {
   "cell_type": "code",
   "execution_count": 899,
   "metadata": {},
   "outputs": [
    {
     "data": {
      "text/html": [
       "<style>#sk-container-id-49 {color: black;background-color: white;}#sk-container-id-49 pre{padding: 0;}#sk-container-id-49 div.sk-toggleable {background-color: white;}#sk-container-id-49 label.sk-toggleable__label {cursor: pointer;display: block;width: 100%;margin-bottom: 0;padding: 0.3em;box-sizing: border-box;text-align: center;}#sk-container-id-49 label.sk-toggleable__label-arrow:before {content: \"▸\";float: left;margin-right: 0.25em;color: #696969;}#sk-container-id-49 label.sk-toggleable__label-arrow:hover:before {color: black;}#sk-container-id-49 div.sk-estimator:hover label.sk-toggleable__label-arrow:before {color: black;}#sk-container-id-49 div.sk-toggleable__content {max-height: 0;max-width: 0;overflow: hidden;text-align: left;background-color: #f0f8ff;}#sk-container-id-49 div.sk-toggleable__content pre {margin: 0.2em;color: black;border-radius: 0.25em;background-color: #f0f8ff;}#sk-container-id-49 input.sk-toggleable__control:checked~div.sk-toggleable__content {max-height: 200px;max-width: 100%;overflow: auto;}#sk-container-id-49 input.sk-toggleable__control:checked~label.sk-toggleable__label-arrow:before {content: \"▾\";}#sk-container-id-49 div.sk-estimator input.sk-toggleable__control:checked~label.sk-toggleable__label {background-color: #d4ebff;}#sk-container-id-49 div.sk-label input.sk-toggleable__control:checked~label.sk-toggleable__label {background-color: #d4ebff;}#sk-container-id-49 input.sk-hidden--visually {border: 0;clip: rect(1px 1px 1px 1px);clip: rect(1px, 1px, 1px, 1px);height: 1px;margin: -1px;overflow: hidden;padding: 0;position: absolute;width: 1px;}#sk-container-id-49 div.sk-estimator {font-family: monospace;background-color: #f0f8ff;border: 1px dotted black;border-radius: 0.25em;box-sizing: border-box;margin-bottom: 0.5em;}#sk-container-id-49 div.sk-estimator:hover {background-color: #d4ebff;}#sk-container-id-49 div.sk-parallel-item::after {content: \"\";width: 100%;border-bottom: 1px solid gray;flex-grow: 1;}#sk-container-id-49 div.sk-label:hover label.sk-toggleable__label {background-color: #d4ebff;}#sk-container-id-49 div.sk-serial::before {content: \"\";position: absolute;border-left: 1px solid gray;box-sizing: border-box;top: 0;bottom: 0;left: 50%;z-index: 0;}#sk-container-id-49 div.sk-serial {display: flex;flex-direction: column;align-items: center;background-color: white;padding-right: 0.2em;padding-left: 0.2em;position: relative;}#sk-container-id-49 div.sk-item {position: relative;z-index: 1;}#sk-container-id-49 div.sk-parallel {display: flex;align-items: stretch;justify-content: center;background-color: white;position: relative;}#sk-container-id-49 div.sk-item::before, #sk-container-id-49 div.sk-parallel-item::before {content: \"\";position: absolute;border-left: 1px solid gray;box-sizing: border-box;top: 0;bottom: 0;left: 50%;z-index: -1;}#sk-container-id-49 div.sk-parallel-item {display: flex;flex-direction: column;z-index: 1;position: relative;background-color: white;}#sk-container-id-49 div.sk-parallel-item:first-child::after {align-self: flex-end;width: 50%;}#sk-container-id-49 div.sk-parallel-item:last-child::after {align-self: flex-start;width: 50%;}#sk-container-id-49 div.sk-parallel-item:only-child::after {width: 0;}#sk-container-id-49 div.sk-dashed-wrapped {border: 1px dashed gray;margin: 0 0.4em 0.5em 0.4em;box-sizing: border-box;padding-bottom: 0.4em;background-color: white;}#sk-container-id-49 div.sk-label label {font-family: monospace;font-weight: bold;display: inline-block;line-height: 1.2em;}#sk-container-id-49 div.sk-label-container {text-align: center;}#sk-container-id-49 div.sk-container {/* jupyter's `normalize.less` sets `[hidden] { display: none; }` but bootstrap.min.css set `[hidden] { display: none !important; }` so we also need the `!important` here to be able to override the default hidden behavior on the sphinx rendered scikit-learn.org. See: https://github.com/scikit-learn/scikit-learn/issues/21755 */display: inline-block !important;position: relative;}#sk-container-id-49 div.sk-text-repr-fallback {display: none;}</style><div id=\"sk-container-id-49\" class=\"sk-top-container\"><div class=\"sk-text-repr-fallback\"><pre>Pipeline(steps=[(&#x27;encoder&#x27;,\n",
       "                 FeatureUnion(transformer_list=[(&#x27;agg&#x27;,\n",
       "                                                 &lt;transformers.AggregateTransformer.AggregateTransformer object at 0x00000225325D2AA0&gt;)])),\n",
       "                (&#x27;xgb&#x27;,\n",
       "                 XGBRegressor(base_score=0.5, booster=&#x27;gbtree&#x27;, callbacks=None,\n",
       "                              colsample_bylevel=1, colsample_bynode=1,\n",
       "                              colsample_bytree=1, early_stopping_rounds=None,\n",
       "                              enable_categorical=False, eval_metric=None,\n",
       "                              feat...None, gamma=0, gpu_id=-1,\n",
       "                              grow_policy=&#x27;depthwise&#x27;, importance_type=None,\n",
       "                              interaction_constraints=&#x27;&#x27;, learning_rate=0.3,\n",
       "                              max_bin=256, max_cat_threshold=64,\n",
       "                              max_cat_to_onehot=4, max_delta_step=0,\n",
       "                              max_depth=6, max_leaves=0, min_child_weight=1,\n",
       "                              missing=nan, monotone_constraints=&#x27;()&#x27;,\n",
       "                              n_estimators=400, n_jobs=2, num_parallel_tree=1,\n",
       "                              predictor=&#x27;auto&#x27;, random_state=0, ...))])</pre><b>In a Jupyter environment, please rerun this cell to show the HTML representation or trust the notebook. <br />On GitHub, the HTML representation is unable to render, please try loading this page with nbviewer.org.</b></div><div class=\"sk-container\" hidden><div class=\"sk-item sk-dashed-wrapped\"><div class=\"sk-label-container\"><div class=\"sk-label sk-toggleable\"><input class=\"sk-toggleable__control sk-hidden--visually\" id=\"sk-estimator-id-148\" type=\"checkbox\" ><label for=\"sk-estimator-id-148\" class=\"sk-toggleable__label sk-toggleable__label-arrow\">Pipeline</label><div class=\"sk-toggleable__content\"><pre>Pipeline(steps=[(&#x27;encoder&#x27;,\n",
       "                 FeatureUnion(transformer_list=[(&#x27;agg&#x27;,\n",
       "                                                 &lt;transformers.AggregateTransformer.AggregateTransformer object at 0x00000225325D2AA0&gt;)])),\n",
       "                (&#x27;xgb&#x27;,\n",
       "                 XGBRegressor(base_score=0.5, booster=&#x27;gbtree&#x27;, callbacks=None,\n",
       "                              colsample_bylevel=1, colsample_bynode=1,\n",
       "                              colsample_bytree=1, early_stopping_rounds=None,\n",
       "                              enable_categorical=False, eval_metric=None,\n",
       "                              feat...None, gamma=0, gpu_id=-1,\n",
       "                              grow_policy=&#x27;depthwise&#x27;, importance_type=None,\n",
       "                              interaction_constraints=&#x27;&#x27;, learning_rate=0.3,\n",
       "                              max_bin=256, max_cat_threshold=64,\n",
       "                              max_cat_to_onehot=4, max_delta_step=0,\n",
       "                              max_depth=6, max_leaves=0, min_child_weight=1,\n",
       "                              missing=nan, monotone_constraints=&#x27;()&#x27;,\n",
       "                              n_estimators=400, n_jobs=2, num_parallel_tree=1,\n",
       "                              predictor=&#x27;auto&#x27;, random_state=0, ...))])</pre></div></div></div><div class=\"sk-serial\"><div class=\"sk-item sk-dashed-wrapped\"><div class=\"sk-label-container\"><div class=\"sk-label sk-toggleable\"><input class=\"sk-toggleable__control sk-hidden--visually\" id=\"sk-estimator-id-149\" type=\"checkbox\" ><label for=\"sk-estimator-id-149\" class=\"sk-toggleable__label sk-toggleable__label-arrow\">encoder: FeatureUnion</label><div class=\"sk-toggleable__content\"><pre>FeatureUnion(transformer_list=[(&#x27;agg&#x27;,\n",
       "                                &lt;transformers.AggregateTransformer.AggregateTransformer object at 0x00000225325D2AA0&gt;)])</pre></div></div></div><div class=\"sk-parallel\"><div class=\"sk-parallel-item\"><div class=\"sk-item\"><div class=\"sk-label-container\"><div class=\"sk-label sk-toggleable\"><label>agg</label></div></div><div class=\"sk-serial\"><div class=\"sk-item\"><div class=\"sk-estimator sk-toggleable\"><input class=\"sk-toggleable__control sk-hidden--visually\" id=\"sk-estimator-id-150\" type=\"checkbox\" ><label for=\"sk-estimator-id-150\" class=\"sk-toggleable__label sk-toggleable__label-arrow\">AggregateTransformer</label><div class=\"sk-toggleable__content\"><pre>&lt;transformers.AggregateTransformer.AggregateTransformer object at 0x00000225325D2AA0&gt;</pre></div></div></div></div></div></div></div></div><div class=\"sk-item\"><div class=\"sk-estimator sk-toggleable\"><input class=\"sk-toggleable__control sk-hidden--visually\" id=\"sk-estimator-id-151\" type=\"checkbox\" ><label for=\"sk-estimator-id-151\" class=\"sk-toggleable__label sk-toggleable__label-arrow\">XGBRegressor</label><div class=\"sk-toggleable__content\"><pre>XGBRegressor(base_score=0.5, booster=&#x27;gbtree&#x27;, callbacks=None,\n",
       "             colsample_bylevel=1, colsample_bynode=1, colsample_bytree=1,\n",
       "             early_stopping_rounds=None, enable_categorical=False,\n",
       "             eval_metric=None, feature_types=None, gamma=0, gpu_id=-1,\n",
       "             grow_policy=&#x27;depthwise&#x27;, importance_type=None,\n",
       "             interaction_constraints=&#x27;&#x27;, learning_rate=0.3, max_bin=256,\n",
       "             max_cat_threshold=64, max_cat_to_onehot=4, max_delta_step=0,\n",
       "             max_depth=6, max_leaves=0, min_child_weight=1, missing=nan,\n",
       "             monotone_constraints=&#x27;()&#x27;, n_estimators=400, n_jobs=2,\n",
       "             num_parallel_tree=1, predictor=&#x27;auto&#x27;, random_state=0, ...)</pre></div></div></div></div></div></div></div>"
      ],
      "text/plain": [
       "Pipeline(steps=[('encoder',\n",
       "                 FeatureUnion(transformer_list=[('agg',\n",
       "                                                 <transformers.AggregateTransformer.AggregateTransformer object at 0x00000225325D2AA0>)])),\n",
       "                ('xgb',\n",
       "                 XGBRegressor(base_score=0.5, booster='gbtree', callbacks=None,\n",
       "                              colsample_bylevel=1, colsample_bynode=1,\n",
       "                              colsample_bytree=1, early_stopping_rounds=None,\n",
       "                              enable_categorical=False, eval_metric=None,\n",
       "                              feat...None, gamma=0, gpu_id=-1,\n",
       "                              grow_policy='depthwise', importance_type=None,\n",
       "                              interaction_constraints='', learning_rate=0.3,\n",
       "                              max_bin=256, max_cat_threshold=64,\n",
       "                              max_cat_to_onehot=4, max_delta_step=0,\n",
       "                              max_depth=6, max_leaves=0, min_child_weight=1,\n",
       "                              missing=nan, monotone_constraints='()',\n",
       "                              n_estimators=400, n_jobs=2, num_parallel_tree=1,\n",
       "                              predictor='auto', random_state=0, ...))])"
      ]
     },
     "execution_count": 899,
     "metadata": {},
     "output_type": "execute_result"
    }
   ],
   "source": [
    "pipeline = Pipeline([('encoder', feature_combiner), ('xgb', model)])\n",
    "pipeline.fit(bucket_data, train_y)"
   ]
  },
  {
   "cell_type": "code",
   "execution_count": 900,
   "metadata": {},
   "outputs": [
    {
     "name": "stdout",
     "output_type": "stream",
     "text": [
      "[1092920.9   1028228.8    968097.94  ...    8963.064    5510.502\n",
      "  -20464.535]\n"
     ]
    }
   ],
   "source": [
    "preds = pipeline.predict(bucket_data_test)\n",
    "print(preds)"
   ]
  },
  {
   "cell_type": "code",
   "execution_count": 901,
   "metadata": {},
   "outputs": [
    {
     "data": {
      "text/plain": [
       "271897.0546970529"
      ]
     },
     "execution_count": 901,
     "metadata": {},
     "output_type": "execute_result"
    }
   ],
   "source": [
    "score_task_3 = mean_absolute_error(test_y, preds)\n",
    "score_task_3"
   ]
  },
  {
   "attachments": {},
   "cell_type": "markdown",
   "metadata": {},
   "source": [
    "## Task 4\n",
    "\n",
    "Perform Task 3 again, but this time exclude the contextual features. Then, compare the accuracy of the resulting models with the previous step, and explain any differences in the results. Consider whether the use of contextual features impacted the accuracy of the models, and explain why such an effect may or may not have occurred."
   ]
  },
  {
   "cell_type": "code",
   "execution_count": 902,
   "metadata": {},
   "outputs": [],
   "source": [
    "# Remove the contextual information\n",
    "log.drop(['start_day', 'end_day', 'start_month', 'end_month', 'start_since_midnight', 'end_since_midnight'], axis=1, inplace=True)"
   ]
  },
  {
   "cell_type": "code",
   "execution_count": 903,
   "metadata": {},
   "outputs": [
    {
     "data": {
      "text/html": [
       "<div>\n",
       "<style scoped>\n",
       "    .dataframe tbody tr th:only-of-type {\n",
       "        vertical-align: middle;\n",
       "    }\n",
       "\n",
       "    .dataframe tbody tr th {\n",
       "        vertical-align: top;\n",
       "    }\n",
       "\n",
       "    .dataframe thead th {\n",
       "        text-align: right;\n",
       "    }\n",
       "</style>\n",
       "<table border=\"1\" class=\"dataframe\">\n",
       "  <thead>\n",
       "    <tr style=\"text-align: right;\">\n",
       "      <th></th>\n",
       "      <th>case_id</th>\n",
       "      <th>AMOUNT_REQ</th>\n",
       "      <th>resource</th>\n",
       "      <th>activity</th>\n",
       "      <th>Start_Time</th>\n",
       "      <th>End_Time</th>\n",
       "      <th>REG_DATE</th>\n",
       "      <th>complete_timestamp</th>\n",
       "      <th>remtime</th>\n",
       "    </tr>\n",
       "  </thead>\n",
       "  <tbody>\n",
       "    <tr>\n",
       "      <th>0</th>\n",
       "      <td>196554</td>\n",
       "      <td>6000</td>\n",
       "      <td>112</td>\n",
       "      <td>A_DECLINED</td>\n",
       "      <td>2011-12-29 21:43:20.708</td>\n",
       "      <td>2011-12-29 21:43:20.708</td>\n",
       "      <td>2011-12-29 21:42:45.706</td>\n",
       "      <td>2011-12-29 21:43:20.708</td>\n",
       "      <td>0.000</td>\n",
       "    </tr>\n",
       "    <tr>\n",
       "      <th>1</th>\n",
       "      <td>196557</td>\n",
       "      <td>10000</td>\n",
       "      <td>112</td>\n",
       "      <td>A_SUBMITTED</td>\n",
       "      <td>2011-12-29 21:48:26.730</td>\n",
       "      <td>2011-12-29 21:48:26.730</td>\n",
       "      <td>2011-12-29 21:48:26.730</td>\n",
       "      <td>2012-01-02 10:23:29.922</td>\n",
       "      <td>304503.192</td>\n",
       "    </tr>\n",
       "    <tr>\n",
       "      <th>2</th>\n",
       "      <td>196557</td>\n",
       "      <td>10000</td>\n",
       "      <td>112</td>\n",
       "      <td>A_PARTLYSUBMITTED</td>\n",
       "      <td>2011-12-29 21:48:26.956</td>\n",
       "      <td>2011-12-29 21:48:26.956</td>\n",
       "      <td>2011-12-29 21:48:26.730</td>\n",
       "      <td>2012-01-02 10:23:29.922</td>\n",
       "      <td>304502.966</td>\n",
       "    </tr>\n",
       "    <tr>\n",
       "      <th>3</th>\n",
       "      <td>196557</td>\n",
       "      <td>10000</td>\n",
       "      <td>112</td>\n",
       "      <td>A_PREACCEPTED</td>\n",
       "      <td>2011-12-29 21:49:09.983</td>\n",
       "      <td>2011-12-29 21:49:09.983</td>\n",
       "      <td>2011-12-29 21:48:26.730</td>\n",
       "      <td>2012-01-02 10:23:29.922</td>\n",
       "      <td>304459.939</td>\n",
       "    </tr>\n",
       "    <tr>\n",
       "      <th>4</th>\n",
       "      <td>196557</td>\n",
       "      <td>10000</td>\n",
       "      <td>11003</td>\n",
       "      <td>W_Completeren aanvraag</td>\n",
       "      <td>2011-12-30 12:23:05.764</td>\n",
       "      <td>2011-12-30 12:37:06.319</td>\n",
       "      <td>2011-12-29 21:48:26.730</td>\n",
       "      <td>2012-01-02 10:23:29.922</td>\n",
       "      <td>251183.603</td>\n",
       "    </tr>\n",
       "  </tbody>\n",
       "</table>\n",
       "</div>"
      ],
      "text/plain": [
       "   case_id  AMOUNT_REQ  resource                activity  \\\n",
       "0   196554        6000       112              A_DECLINED   \n",
       "1   196557       10000       112             A_SUBMITTED   \n",
       "2   196557       10000       112       A_PARTLYSUBMITTED   \n",
       "3   196557       10000       112           A_PREACCEPTED   \n",
       "4   196557       10000     11003  W_Completeren aanvraag   \n",
       "\n",
       "               Start_Time                End_Time                REG_DATE  \\\n",
       "0 2011-12-29 21:43:20.708 2011-12-29 21:43:20.708 2011-12-29 21:42:45.706   \n",
       "1 2011-12-29 21:48:26.730 2011-12-29 21:48:26.730 2011-12-29 21:48:26.730   \n",
       "2 2011-12-29 21:48:26.956 2011-12-29 21:48:26.956 2011-12-29 21:48:26.730   \n",
       "3 2011-12-29 21:49:09.983 2011-12-29 21:49:09.983 2011-12-29 21:48:26.730   \n",
       "4 2011-12-30 12:23:05.764 2011-12-30 12:37:06.319 2011-12-29 21:48:26.730   \n",
       "\n",
       "       complete_timestamp     remtime  \n",
       "0 2011-12-29 21:43:20.708       0.000  \n",
       "1 2012-01-02 10:23:29.922  304503.192  \n",
       "2 2012-01-02 10:23:29.922  304502.966  \n",
       "3 2012-01-02 10:23:29.922  304459.939  \n",
       "4 2012-01-02 10:23:29.922  251183.603  "
      ]
     },
     "execution_count": 903,
     "metadata": {},
     "output_type": "execute_result"
    }
   ],
   "source": [
    "log.head()"
   ]
  },
  {
   "cell_type": "code",
   "execution_count": 904,
   "metadata": {},
   "outputs": [],
   "source": [
    "# Create the log schema without contextual data\n",
    "log_schema = {'case_id_col': 'case_id',\n",
    "              'timestamp_col': 'complete_timestamp',\n",
    "              'activity_col': 'activity',\n",
    "              'label': 'remtime',\n",
    "              'static_cat_cols': [],\n",
    "              'static_num_cols': [\"AMOUNT_REQ\"],\n",
    "              'dynamic_cat_cols': [\"activity\", \"resource\"],\n",
    "              'dynamic_num_cols': [], \n",
    "             }"
   ]
  },
  {
   "cell_type": "code",
   "execution_count": 905,
   "metadata": {},
   "outputs": [
    {
     "data": {
      "text/plain": [
       "(8839, 3640)"
      ]
     },
     "execution_count": 905,
     "metadata": {},
     "output_type": "execute_result"
    }
   ],
   "source": [
    "# Do the temporal split into train and test set\n",
    "train, test = temporal_split(log, log_schema, 0.8)\n",
    "len(train), len(test)"
   ]
  },
  {
   "cell_type": "code",
   "execution_count": 906,
   "metadata": {},
   "outputs": [],
   "source": [
    "# Prefixes\n",
    "max_prefix_length = min(40, get_pos_case_length_quantile(log, log_schema, 0.90))\n",
    "dt_train_prefixes = generate_prefix_data(train, min_prefix_length, max_prefix_length, log_schema)\n",
    "dt_test_prefixes = generate_prefix_data(test, min_prefix_length, max_prefix_length, log_schema)"
   ]
  },
  {
   "cell_type": "code",
   "execution_count": 907,
   "metadata": {},
   "outputs": [],
   "source": [
    "# Single bucketing, args stay the same\n",
    "bucket_method = 'single'\n",
    "bucketer = BucketFactory.get_bucketer(bucket_method, **bucketer_args)\n",
    "bucket_assignments_train = bucketer.fit_predict(dt_train_prefixes)\n",
    "bucket_assignments_test = bucketer.predict(dt_test_prefixes)"
   ]
  },
  {
   "cell_type": "code",
   "execution_count": 908,
   "metadata": {},
   "outputs": [
    {
     "name": "stdout",
     "output_type": "stream",
     "text": [
      "Train assignments:\n",
      "1    8222\n",
      "Name: bucket, dtype: int64\n",
      "Test assignments:\n",
      "1    3069\n",
      "Name: bucket, dtype: int64\n"
     ]
    }
   ],
   "source": [
    "print('Train assignments:')\n",
    "bucket_assignments_train\n",
    "print(pd.DataFrame(bucket_assignments_train, columns=['bucket']).bucket.value_counts())\n",
    "print('Test assignments:')\n",
    "bucket_assignments_test\n",
    "print(pd.DataFrame(bucket_assignments_test, columns=['bucket']).bucket.value_counts())"
   ]
  },
  {
   "cell_type": "code",
   "execution_count": 909,
   "metadata": {},
   "outputs": [],
   "source": [
    "bucket_indexes = dt_train_prefixes.groupby(log_schema.get('case_id_col')).first().index\n",
    "bucket_indexes = bucket_indexes[bucket_assignments_train == 1]\n",
    "#print(bucket_indexes)\n",
    "\n",
    "bucket_data = dt_train_prefixes[dt_train_prefixes[log_schema.get('case_id_col')].isin(bucket_indexes)]\n",
    "train_y = get_label_numeric(bucket_data)"
   ]
  },
  {
   "cell_type": "code",
   "execution_count": 910,
   "metadata": {},
   "outputs": [],
   "source": [
    "bucket_indexes = dt_test_prefixes.groupby(log_schema.get('case_id_col')).first().index\n",
    "bucket_indexes = bucket_indexes[bucket_assignments_test == 1]\n",
    "#print(bucket_indexes)\n",
    "bucket_data_test = dt_test_prefixes[dt_test_prefixes[log_schema.get('case_id_col')].isin(bucket_indexes)]\n",
    "test_y = get_label_numeric(bucket_data_test)"
   ]
  },
  {
   "cell_type": "code",
   "execution_count": 911,
   "metadata": {},
   "outputs": [
    {
     "data": {
      "text/html": [
       "<style>#sk-container-id-50 {color: black;background-color: white;}#sk-container-id-50 pre{padding: 0;}#sk-container-id-50 div.sk-toggleable {background-color: white;}#sk-container-id-50 label.sk-toggleable__label {cursor: pointer;display: block;width: 100%;margin-bottom: 0;padding: 0.3em;box-sizing: border-box;text-align: center;}#sk-container-id-50 label.sk-toggleable__label-arrow:before {content: \"▸\";float: left;margin-right: 0.25em;color: #696969;}#sk-container-id-50 label.sk-toggleable__label-arrow:hover:before {color: black;}#sk-container-id-50 div.sk-estimator:hover label.sk-toggleable__label-arrow:before {color: black;}#sk-container-id-50 div.sk-toggleable__content {max-height: 0;max-width: 0;overflow: hidden;text-align: left;background-color: #f0f8ff;}#sk-container-id-50 div.sk-toggleable__content pre {margin: 0.2em;color: black;border-radius: 0.25em;background-color: #f0f8ff;}#sk-container-id-50 input.sk-toggleable__control:checked~div.sk-toggleable__content {max-height: 200px;max-width: 100%;overflow: auto;}#sk-container-id-50 input.sk-toggleable__control:checked~label.sk-toggleable__label-arrow:before {content: \"▾\";}#sk-container-id-50 div.sk-estimator input.sk-toggleable__control:checked~label.sk-toggleable__label {background-color: #d4ebff;}#sk-container-id-50 div.sk-label input.sk-toggleable__control:checked~label.sk-toggleable__label {background-color: #d4ebff;}#sk-container-id-50 input.sk-hidden--visually {border: 0;clip: rect(1px 1px 1px 1px);clip: rect(1px, 1px, 1px, 1px);height: 1px;margin: -1px;overflow: hidden;padding: 0;position: absolute;width: 1px;}#sk-container-id-50 div.sk-estimator {font-family: monospace;background-color: #f0f8ff;border: 1px dotted black;border-radius: 0.25em;box-sizing: border-box;margin-bottom: 0.5em;}#sk-container-id-50 div.sk-estimator:hover {background-color: #d4ebff;}#sk-container-id-50 div.sk-parallel-item::after {content: \"\";width: 100%;border-bottom: 1px solid gray;flex-grow: 1;}#sk-container-id-50 div.sk-label:hover label.sk-toggleable__label {background-color: #d4ebff;}#sk-container-id-50 div.sk-serial::before {content: \"\";position: absolute;border-left: 1px solid gray;box-sizing: border-box;top: 0;bottom: 0;left: 50%;z-index: 0;}#sk-container-id-50 div.sk-serial {display: flex;flex-direction: column;align-items: center;background-color: white;padding-right: 0.2em;padding-left: 0.2em;position: relative;}#sk-container-id-50 div.sk-item {position: relative;z-index: 1;}#sk-container-id-50 div.sk-parallel {display: flex;align-items: stretch;justify-content: center;background-color: white;position: relative;}#sk-container-id-50 div.sk-item::before, #sk-container-id-50 div.sk-parallel-item::before {content: \"\";position: absolute;border-left: 1px solid gray;box-sizing: border-box;top: 0;bottom: 0;left: 50%;z-index: -1;}#sk-container-id-50 div.sk-parallel-item {display: flex;flex-direction: column;z-index: 1;position: relative;background-color: white;}#sk-container-id-50 div.sk-parallel-item:first-child::after {align-self: flex-end;width: 50%;}#sk-container-id-50 div.sk-parallel-item:last-child::after {align-self: flex-start;width: 50%;}#sk-container-id-50 div.sk-parallel-item:only-child::after {width: 0;}#sk-container-id-50 div.sk-dashed-wrapped {border: 1px dashed gray;margin: 0 0.4em 0.5em 0.4em;box-sizing: border-box;padding-bottom: 0.4em;background-color: white;}#sk-container-id-50 div.sk-label label {font-family: monospace;font-weight: bold;display: inline-block;line-height: 1.2em;}#sk-container-id-50 div.sk-label-container {text-align: center;}#sk-container-id-50 div.sk-container {/* jupyter's `normalize.less` sets `[hidden] { display: none; }` but bootstrap.min.css set `[hidden] { display: none !important; }` so we also need the `!important` here to be able to override the default hidden behavior on the sphinx rendered scikit-learn.org. See: https://github.com/scikit-learn/scikit-learn/issues/21755 */display: inline-block !important;position: relative;}#sk-container-id-50 div.sk-text-repr-fallback {display: none;}</style><div id=\"sk-container-id-50\" class=\"sk-top-container\"><div class=\"sk-text-repr-fallback\"><pre>FeatureUnion(transformer_list=[(&#x27;agg&#x27;,\n",
       "                                &lt;transformers.AggregateTransformer.AggregateTransformer object at 0x000002252AA10700&gt;)])</pre><b>In a Jupyter environment, please rerun this cell to show the HTML representation or trust the notebook. <br />On GitHub, the HTML representation is unable to render, please try loading this page with nbviewer.org.</b></div><div class=\"sk-container\" hidden><div class=\"sk-item sk-dashed-wrapped\"><div class=\"sk-label-container\"><div class=\"sk-label sk-toggleable\"><input class=\"sk-toggleable__control sk-hidden--visually\" id=\"sk-estimator-id-152\" type=\"checkbox\" ><label for=\"sk-estimator-id-152\" class=\"sk-toggleable__label sk-toggleable__label-arrow\">FeatureUnion</label><div class=\"sk-toggleable__content\"><pre>FeatureUnion(transformer_list=[(&#x27;agg&#x27;,\n",
       "                                &lt;transformers.AggregateTransformer.AggregateTransformer object at 0x000002252AA10700&gt;)])</pre></div></div></div><div class=\"sk-parallel\"><div class=\"sk-parallel-item\"><div class=\"sk-item\"><div class=\"sk-label-container\"><div class=\"sk-label sk-toggleable\"><label>agg</label></div></div><div class=\"sk-serial\"><div class=\"sk-item\"><div class=\"sk-estimator sk-toggleable\"><input class=\"sk-toggleable__control sk-hidden--visually\" id=\"sk-estimator-id-153\" type=\"checkbox\" ><label for=\"sk-estimator-id-153\" class=\"sk-toggleable__label sk-toggleable__label-arrow\">AggregateTransformer</label><div class=\"sk-toggleable__content\"><pre>&lt;transformers.AggregateTransformer.AggregateTransformer object at 0x000002252AA10700&gt;</pre></div></div></div></div></div></div></div></div></div></div>"
      ],
      "text/plain": [
       "FeatureUnion(transformer_list=[('agg',\n",
       "                                <transformers.AggregateTransformer.AggregateTransformer object at 0x000002252AA10700>)])"
      ]
     },
     "execution_count": 911,
     "metadata": {},
     "output_type": "execute_result"
    }
   ],
   "source": [
    "methods = ['agg'] # Aggregation encoding\n",
    "feature_combiner = FeatureUnion([(method, EncoderFactory.get_encoder(method, **log_schema)) for method in methods])\n",
    "feature_combiner"
   ]
  },
  {
   "cell_type": "code",
   "execution_count": 912,
   "metadata": {},
   "outputs": [],
   "source": [
    "model = xgb.XGBRegressor(n_estimators=400, learning_rate=0.3, n_jobs=2)"
   ]
  },
  {
   "cell_type": "code",
   "execution_count": 913,
   "metadata": {},
   "outputs": [],
   "source": [
    "# Encoder and model are the same, data is different\n",
    "pipeline = Pipeline([('encoder', feature_combiner), ('xgb', model)])"
   ]
  },
  {
   "cell_type": "code",
   "execution_count": 914,
   "metadata": {},
   "outputs": [
    {
     "data": {
      "text/html": [
       "<style>#sk-container-id-51 {color: black;background-color: white;}#sk-container-id-51 pre{padding: 0;}#sk-container-id-51 div.sk-toggleable {background-color: white;}#sk-container-id-51 label.sk-toggleable__label {cursor: pointer;display: block;width: 100%;margin-bottom: 0;padding: 0.3em;box-sizing: border-box;text-align: center;}#sk-container-id-51 label.sk-toggleable__label-arrow:before {content: \"▸\";float: left;margin-right: 0.25em;color: #696969;}#sk-container-id-51 label.sk-toggleable__label-arrow:hover:before {color: black;}#sk-container-id-51 div.sk-estimator:hover label.sk-toggleable__label-arrow:before {color: black;}#sk-container-id-51 div.sk-toggleable__content {max-height: 0;max-width: 0;overflow: hidden;text-align: left;background-color: #f0f8ff;}#sk-container-id-51 div.sk-toggleable__content pre {margin: 0.2em;color: black;border-radius: 0.25em;background-color: #f0f8ff;}#sk-container-id-51 input.sk-toggleable__control:checked~div.sk-toggleable__content {max-height: 200px;max-width: 100%;overflow: auto;}#sk-container-id-51 input.sk-toggleable__control:checked~label.sk-toggleable__label-arrow:before {content: \"▾\";}#sk-container-id-51 div.sk-estimator input.sk-toggleable__control:checked~label.sk-toggleable__label {background-color: #d4ebff;}#sk-container-id-51 div.sk-label input.sk-toggleable__control:checked~label.sk-toggleable__label {background-color: #d4ebff;}#sk-container-id-51 input.sk-hidden--visually {border: 0;clip: rect(1px 1px 1px 1px);clip: rect(1px, 1px, 1px, 1px);height: 1px;margin: -1px;overflow: hidden;padding: 0;position: absolute;width: 1px;}#sk-container-id-51 div.sk-estimator {font-family: monospace;background-color: #f0f8ff;border: 1px dotted black;border-radius: 0.25em;box-sizing: border-box;margin-bottom: 0.5em;}#sk-container-id-51 div.sk-estimator:hover {background-color: #d4ebff;}#sk-container-id-51 div.sk-parallel-item::after {content: \"\";width: 100%;border-bottom: 1px solid gray;flex-grow: 1;}#sk-container-id-51 div.sk-label:hover label.sk-toggleable__label {background-color: #d4ebff;}#sk-container-id-51 div.sk-serial::before {content: \"\";position: absolute;border-left: 1px solid gray;box-sizing: border-box;top: 0;bottom: 0;left: 50%;z-index: 0;}#sk-container-id-51 div.sk-serial {display: flex;flex-direction: column;align-items: center;background-color: white;padding-right: 0.2em;padding-left: 0.2em;position: relative;}#sk-container-id-51 div.sk-item {position: relative;z-index: 1;}#sk-container-id-51 div.sk-parallel {display: flex;align-items: stretch;justify-content: center;background-color: white;position: relative;}#sk-container-id-51 div.sk-item::before, #sk-container-id-51 div.sk-parallel-item::before {content: \"\";position: absolute;border-left: 1px solid gray;box-sizing: border-box;top: 0;bottom: 0;left: 50%;z-index: -1;}#sk-container-id-51 div.sk-parallel-item {display: flex;flex-direction: column;z-index: 1;position: relative;background-color: white;}#sk-container-id-51 div.sk-parallel-item:first-child::after {align-self: flex-end;width: 50%;}#sk-container-id-51 div.sk-parallel-item:last-child::after {align-self: flex-start;width: 50%;}#sk-container-id-51 div.sk-parallel-item:only-child::after {width: 0;}#sk-container-id-51 div.sk-dashed-wrapped {border: 1px dashed gray;margin: 0 0.4em 0.5em 0.4em;box-sizing: border-box;padding-bottom: 0.4em;background-color: white;}#sk-container-id-51 div.sk-label label {font-family: monospace;font-weight: bold;display: inline-block;line-height: 1.2em;}#sk-container-id-51 div.sk-label-container {text-align: center;}#sk-container-id-51 div.sk-container {/* jupyter's `normalize.less` sets `[hidden] { display: none; }` but bootstrap.min.css set `[hidden] { display: none !important; }` so we also need the `!important` here to be able to override the default hidden behavior on the sphinx rendered scikit-learn.org. See: https://github.com/scikit-learn/scikit-learn/issues/21755 */display: inline-block !important;position: relative;}#sk-container-id-51 div.sk-text-repr-fallback {display: none;}</style><div id=\"sk-container-id-51\" class=\"sk-top-container\"><div class=\"sk-text-repr-fallback\"><pre>Pipeline(steps=[(&#x27;encoder&#x27;,\n",
       "                 FeatureUnion(transformer_list=[(&#x27;agg&#x27;,\n",
       "                                                 &lt;transformers.AggregateTransformer.AggregateTransformer object at 0x000002252AA10700&gt;)])),\n",
       "                (&#x27;xgb&#x27;,\n",
       "                 XGBRegressor(base_score=0.5, booster=&#x27;gbtree&#x27;, callbacks=None,\n",
       "                              colsample_bylevel=1, colsample_bynode=1,\n",
       "                              colsample_bytree=1, early_stopping_rounds=None,\n",
       "                              enable_categorical=False, eval_metric=None,\n",
       "                              feat...None, gamma=0, gpu_id=-1,\n",
       "                              grow_policy=&#x27;depthwise&#x27;, importance_type=None,\n",
       "                              interaction_constraints=&#x27;&#x27;, learning_rate=0.3,\n",
       "                              max_bin=256, max_cat_threshold=64,\n",
       "                              max_cat_to_onehot=4, max_delta_step=0,\n",
       "                              max_depth=6, max_leaves=0, min_child_weight=1,\n",
       "                              missing=nan, monotone_constraints=&#x27;()&#x27;,\n",
       "                              n_estimators=400, n_jobs=2, num_parallel_tree=1,\n",
       "                              predictor=&#x27;auto&#x27;, random_state=0, ...))])</pre><b>In a Jupyter environment, please rerun this cell to show the HTML representation or trust the notebook. <br />On GitHub, the HTML representation is unable to render, please try loading this page with nbviewer.org.</b></div><div class=\"sk-container\" hidden><div class=\"sk-item sk-dashed-wrapped\"><div class=\"sk-label-container\"><div class=\"sk-label sk-toggleable\"><input class=\"sk-toggleable__control sk-hidden--visually\" id=\"sk-estimator-id-154\" type=\"checkbox\" ><label for=\"sk-estimator-id-154\" class=\"sk-toggleable__label sk-toggleable__label-arrow\">Pipeline</label><div class=\"sk-toggleable__content\"><pre>Pipeline(steps=[(&#x27;encoder&#x27;,\n",
       "                 FeatureUnion(transformer_list=[(&#x27;agg&#x27;,\n",
       "                                                 &lt;transformers.AggregateTransformer.AggregateTransformer object at 0x000002252AA10700&gt;)])),\n",
       "                (&#x27;xgb&#x27;,\n",
       "                 XGBRegressor(base_score=0.5, booster=&#x27;gbtree&#x27;, callbacks=None,\n",
       "                              colsample_bylevel=1, colsample_bynode=1,\n",
       "                              colsample_bytree=1, early_stopping_rounds=None,\n",
       "                              enable_categorical=False, eval_metric=None,\n",
       "                              feat...None, gamma=0, gpu_id=-1,\n",
       "                              grow_policy=&#x27;depthwise&#x27;, importance_type=None,\n",
       "                              interaction_constraints=&#x27;&#x27;, learning_rate=0.3,\n",
       "                              max_bin=256, max_cat_threshold=64,\n",
       "                              max_cat_to_onehot=4, max_delta_step=0,\n",
       "                              max_depth=6, max_leaves=0, min_child_weight=1,\n",
       "                              missing=nan, monotone_constraints=&#x27;()&#x27;,\n",
       "                              n_estimators=400, n_jobs=2, num_parallel_tree=1,\n",
       "                              predictor=&#x27;auto&#x27;, random_state=0, ...))])</pre></div></div></div><div class=\"sk-serial\"><div class=\"sk-item sk-dashed-wrapped\"><div class=\"sk-label-container\"><div class=\"sk-label sk-toggleable\"><input class=\"sk-toggleable__control sk-hidden--visually\" id=\"sk-estimator-id-155\" type=\"checkbox\" ><label for=\"sk-estimator-id-155\" class=\"sk-toggleable__label sk-toggleable__label-arrow\">encoder: FeatureUnion</label><div class=\"sk-toggleable__content\"><pre>FeatureUnion(transformer_list=[(&#x27;agg&#x27;,\n",
       "                                &lt;transformers.AggregateTransformer.AggregateTransformer object at 0x000002252AA10700&gt;)])</pre></div></div></div><div class=\"sk-parallel\"><div class=\"sk-parallel-item\"><div class=\"sk-item\"><div class=\"sk-label-container\"><div class=\"sk-label sk-toggleable\"><label>agg</label></div></div><div class=\"sk-serial\"><div class=\"sk-item\"><div class=\"sk-estimator sk-toggleable\"><input class=\"sk-toggleable__control sk-hidden--visually\" id=\"sk-estimator-id-156\" type=\"checkbox\" ><label for=\"sk-estimator-id-156\" class=\"sk-toggleable__label sk-toggleable__label-arrow\">AggregateTransformer</label><div class=\"sk-toggleable__content\"><pre>&lt;transformers.AggregateTransformer.AggregateTransformer object at 0x000002252AA10700&gt;</pre></div></div></div></div></div></div></div></div><div class=\"sk-item\"><div class=\"sk-estimator sk-toggleable\"><input class=\"sk-toggleable__control sk-hidden--visually\" id=\"sk-estimator-id-157\" type=\"checkbox\" ><label for=\"sk-estimator-id-157\" class=\"sk-toggleable__label sk-toggleable__label-arrow\">XGBRegressor</label><div class=\"sk-toggleable__content\"><pre>XGBRegressor(base_score=0.5, booster=&#x27;gbtree&#x27;, callbacks=None,\n",
       "             colsample_bylevel=1, colsample_bynode=1, colsample_bytree=1,\n",
       "             early_stopping_rounds=None, enable_categorical=False,\n",
       "             eval_metric=None, feature_types=None, gamma=0, gpu_id=-1,\n",
       "             grow_policy=&#x27;depthwise&#x27;, importance_type=None,\n",
       "             interaction_constraints=&#x27;&#x27;, learning_rate=0.3, max_bin=256,\n",
       "             max_cat_threshold=64, max_cat_to_onehot=4, max_delta_step=0,\n",
       "             max_depth=6, max_leaves=0, min_child_weight=1, missing=nan,\n",
       "             monotone_constraints=&#x27;()&#x27;, n_estimators=400, n_jobs=2,\n",
       "             num_parallel_tree=1, predictor=&#x27;auto&#x27;, random_state=0, ...)</pre></div></div></div></div></div></div></div>"
      ],
      "text/plain": [
       "Pipeline(steps=[('encoder',\n",
       "                 FeatureUnion(transformer_list=[('agg',\n",
       "                                                 <transformers.AggregateTransformer.AggregateTransformer object at 0x000002252AA10700>)])),\n",
       "                ('xgb',\n",
       "                 XGBRegressor(base_score=0.5, booster='gbtree', callbacks=None,\n",
       "                              colsample_bylevel=1, colsample_bynode=1,\n",
       "                              colsample_bytree=1, early_stopping_rounds=None,\n",
       "                              enable_categorical=False, eval_metric=None,\n",
       "                              feat...None, gamma=0, gpu_id=-1,\n",
       "                              grow_policy='depthwise', importance_type=None,\n",
       "                              interaction_constraints='', learning_rate=0.3,\n",
       "                              max_bin=256, max_cat_threshold=64,\n",
       "                              max_cat_to_onehot=4, max_delta_step=0,\n",
       "                              max_depth=6, max_leaves=0, min_child_weight=1,\n",
       "                              missing=nan, monotone_constraints='()',\n",
       "                              n_estimators=400, n_jobs=2, num_parallel_tree=1,\n",
       "                              predictor='auto', random_state=0, ...))])"
      ]
     },
     "execution_count": 914,
     "metadata": {},
     "output_type": "execute_result"
    }
   ],
   "source": [
    "pipeline.fit(bucket_data, train_y)"
   ]
  },
  {
   "cell_type": "code",
   "execution_count": 915,
   "metadata": {},
   "outputs": [
    {
     "name": "stdout",
     "output_type": "stream",
     "text": [
      "[ 1.0696436e+06  8.1559325e+05  9.6083838e+05 ... -2.4689957e+02\n",
      " -6.2932275e+02  2.6021494e+02]\n"
     ]
    }
   ],
   "source": [
    "preds = pipeline.predict(bucket_data_test)\n",
    "print(preds)"
   ]
  },
  {
   "cell_type": "code",
   "execution_count": 916,
   "metadata": {},
   "outputs": [
    {
     "data": {
      "text/plain": [
       "281025.1817774778"
      ]
     },
     "execution_count": 916,
     "metadata": {},
     "output_type": "execute_result"
    }
   ],
   "source": [
    "score_task_4 = mean_absolute_error(test_y, preds)\n",
    "score_task_4"
   ]
  },
  {
   "cell_type": "code",
   "execution_count": 917,
   "metadata": {},
   "outputs": [
    {
     "name": "stdout",
     "output_type": "stream",
     "text": [
      "The MAE of task 3 (with contextual info) is: 271897.0546970529\n",
      "The MAE of task 4 (without contextual info) is: 281025.1817774778\n",
      "Therefore, the model with contextual information was better. The difference in MAE was: 9128.127080424863\n"
     ]
    }
   ],
   "source": [
    "print('The MAE of task 3 (with contextual info) is:', score_task_3)\n",
    "print('The MAE of task 4 (without contextual info) is:', score_task_4)\n",
    "print('Therefore, the model with contextual information was better. The difference in MAE was:', (score_task_4 - score_task_3))"
   ]
  }
 ],
 "metadata": {
  "kernelspec": {
   "display_name": "atm_2022",
   "language": "python",
   "name": "python3"
  },
  "language_info": {
   "codemirror_mode": {
    "name": "ipython",
    "version": 3
   },
   "file_extension": ".py",
   "mimetype": "text/x-python",
   "name": "python",
   "nbconvert_exporter": "python",
   "pygments_lexer": "ipython3",
   "version": "3.10.4"
  },
  "orig_nbformat": 4
 },
 "nbformat": 4,
 "nbformat_minor": 2
}
